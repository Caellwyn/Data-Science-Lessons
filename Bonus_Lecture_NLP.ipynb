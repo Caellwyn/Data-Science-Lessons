{
  "nbformat": 4,
  "nbformat_minor": 0,
  "metadata": {
    "colab": {
      "provenance": [],
      "include_colab_link": true
    },
    "kernelspec": {
      "name": "python3",
      "display_name": "Python 3"
    },
    "language_info": {
      "name": "python"
    }
  },
  "cells": [
    {
      "cell_type": "markdown",
      "metadata": {
        "id": "view-in-github",
        "colab_type": "text"
      },
      "source": [
        "<a href=\"https://colab.research.google.com/github/Caellwyn/Data-Science-Lessons/blob/main/Bonus_Lecture_NLP.ipynb\" target=\"_parent\"><img src=\"https://colab.research.google.com/assets/colab-badge.svg\" alt=\"Open In Colab\"/></a>"
      ]
    },
    {
      "cell_type": "markdown",
      "metadata": {
        "id": "thPFHP--i8Lo"
      },
      "source": [
        "# Natural Language Processing\n",
        "\n",
        "<u>Vocab Words!</u>:\n",
        "\n",
        "**Document**: A text sample. Maybe a tweet, a sentence, a paragraph, an article, or maybe even a whole book.  However, it is represented as one row or sample.\n",
        "\n",
        "**Corpus**: A complete collection of documents.  Generally a training set.\n",
        "\n",
        "**Vocabulary** The complete list of unique words in a corpus.\n",
        "\n",
        "**Symantics**: The meaning of words.\n",
        "\n",
        "**Syntax**: How words are used grammatically.\n",
        "\n",
        "## NLP is 90% data preparation\n",
        "\n",
        "Steps:\n",
        "\n",
        "1. Load and clean data\n",
        "2. Tokenize data\n",
        "3. Remove stop words\n",
        "4. Normalize (stem or lemmatize)\n",
        "5. Vectorize\n",
        "6. Model\n",
        "7. Evaluate\n",
        "\n",
        "We will be using a 'bag of words' approach today.  The bag of words strategy does not attend to sequence or syntax, but just considers the vocabulary of the document to classify it.\n",
        "\n",
        "The final vectorized data will have one column for each word in the vocabulary of our corpus and a number in that column representing the frequency of the word in the document the row represents.\n",
        "\n",
        "In order to reduce the dimensionality of our data, we want to remove as many low-meaning or redundant words as possible."
      ]
    },
    {
      "cell_type": "code",
      "metadata": {
        "id": "Rj2wdJGXsWh4",
        "colab": {
          "base_uri": "https://localhost:8080/"
        },
        "outputId": "0ba4b63c-8473-4f4e-c02d-813f0518b53a"
      },
      "source": [
        "import pandas as pd\n",
        "\n",
        "#open zipfiles\n",
        "import zipfile\n",
        "\n",
        "#download data from online\n",
        "import requests\n",
        "\n",
        "#Natural Language Tool Kit\n",
        "import nltk\n",
        "nltk.download('punkt')\n",
        "nltk.download('stopwords')\n",
        "nltk.download('wordnet')"
      ],
      "execution_count": null,
      "outputs": [
        {
          "output_type": "stream",
          "name": "stderr",
          "text": [
            "[nltk_data] Downloading package punkt to /root/nltk_data...\n",
            "[nltk_data]   Unzipping tokenizers/punkt.zip.\n",
            "[nltk_data] Downloading package stopwords to /root/nltk_data...\n",
            "[nltk_data]   Unzipping corpora/stopwords.zip.\n",
            "[nltk_data] Downloading package wordnet to /root/nltk_data...\n",
            "[nltk_data]   Unzipping corpora/wordnet.zip.\n"
          ]
        },
        {
          "output_type": "execute_result",
          "data": {
            "text/plain": [
              "True"
            ]
          },
          "metadata": {},
          "execution_count": 1
        }
      ]
    },
    {
      "cell_type": "markdown",
      "metadata": {
        "id": "O3wgHEeSdrV8"
      },
      "source": [
        "# 1. Load and clean data"
      ]
    },
    {
      "cell_type": "code",
      "metadata": {
        "colab": {
          "base_uri": "https://localhost:8080/",
          "height": 206
        },
        "id": "bwhD8jh3jsLr",
        "outputId": "79578fc3-63bd-43c7-e693-e58ba72aaf30"
      },
      "source": [
        "#import data\n",
        "# archive = request.get()\n",
        "data = requests.get('https://github.com/ninja-josh/image-storage/raw/main/real_and_fake_news.zip')\n",
        "with open('news.zip', 'wb') as f:\n",
        "  f.write(data.content)\n",
        "zf = zipfile.ZipFile('/content/news.zip')\n",
        "real_news = pd.read_csv(zf.open('True.csv'))\n",
        "fake_news = pd.read_csv(zf.open('Fake.csv'))\n",
        "real_news.head()"
      ],
      "execution_count": null,
      "outputs": [
        {
          "output_type": "execute_result",
          "data": {
            "text/plain": [
              "                                               title  \\\n",
              "0  As U.S. budget fight looms, Republicans flip t...   \n",
              "1  U.S. military to accept transgender recruits o...   \n",
              "2  Senior U.S. Republican senator: 'Let Mr. Muell...   \n",
              "3  FBI Russia probe helped by Australian diplomat...   \n",
              "4  Trump wants Postal Service to charge 'much mor...   \n",
              "\n",
              "                                                text       subject  \\\n",
              "0  WASHINGTON (Reuters) - The head of a conservat...  politicsNews   \n",
              "1  WASHINGTON (Reuters) - Transgender people will...  politicsNews   \n",
              "2  WASHINGTON (Reuters) - The special counsel inv...  politicsNews   \n",
              "3  WASHINGTON (Reuters) - Trump campaign adviser ...  politicsNews   \n",
              "4  SEATTLE/WASHINGTON (Reuters) - President Donal...  politicsNews   \n",
              "\n",
              "                 date  \n",
              "0  December 31, 2017   \n",
              "1  December 29, 2017   \n",
              "2  December 31, 2017   \n",
              "3  December 30, 2017   \n",
              "4  December 29, 2017   "
            ],
            "text/html": [
              "\n",
              "  <div id=\"df-c8f61bf0-8355-46e9-af23-99d55a1913a1\">\n",
              "    <div class=\"colab-df-container\">\n",
              "      <div>\n",
              "<style scoped>\n",
              "    .dataframe tbody tr th:only-of-type {\n",
              "        vertical-align: middle;\n",
              "    }\n",
              "\n",
              "    .dataframe tbody tr th {\n",
              "        vertical-align: top;\n",
              "    }\n",
              "\n",
              "    .dataframe thead th {\n",
              "        text-align: right;\n",
              "    }\n",
              "</style>\n",
              "<table border=\"1\" class=\"dataframe\">\n",
              "  <thead>\n",
              "    <tr style=\"text-align: right;\">\n",
              "      <th></th>\n",
              "      <th>title</th>\n",
              "      <th>text</th>\n",
              "      <th>subject</th>\n",
              "      <th>date</th>\n",
              "    </tr>\n",
              "  </thead>\n",
              "  <tbody>\n",
              "    <tr>\n",
              "      <th>0</th>\n",
              "      <td>As U.S. budget fight looms, Republicans flip t...</td>\n",
              "      <td>WASHINGTON (Reuters) - The head of a conservat...</td>\n",
              "      <td>politicsNews</td>\n",
              "      <td>December 31, 2017</td>\n",
              "    </tr>\n",
              "    <tr>\n",
              "      <th>1</th>\n",
              "      <td>U.S. military to accept transgender recruits o...</td>\n",
              "      <td>WASHINGTON (Reuters) - Transgender people will...</td>\n",
              "      <td>politicsNews</td>\n",
              "      <td>December 29, 2017</td>\n",
              "    </tr>\n",
              "    <tr>\n",
              "      <th>2</th>\n",
              "      <td>Senior U.S. Republican senator: 'Let Mr. Muell...</td>\n",
              "      <td>WASHINGTON (Reuters) - The special counsel inv...</td>\n",
              "      <td>politicsNews</td>\n",
              "      <td>December 31, 2017</td>\n",
              "    </tr>\n",
              "    <tr>\n",
              "      <th>3</th>\n",
              "      <td>FBI Russia probe helped by Australian diplomat...</td>\n",
              "      <td>WASHINGTON (Reuters) - Trump campaign adviser ...</td>\n",
              "      <td>politicsNews</td>\n",
              "      <td>December 30, 2017</td>\n",
              "    </tr>\n",
              "    <tr>\n",
              "      <th>4</th>\n",
              "      <td>Trump wants Postal Service to charge 'much mor...</td>\n",
              "      <td>SEATTLE/WASHINGTON (Reuters) - President Donal...</td>\n",
              "      <td>politicsNews</td>\n",
              "      <td>December 29, 2017</td>\n",
              "    </tr>\n",
              "  </tbody>\n",
              "</table>\n",
              "</div>\n",
              "      <button class=\"colab-df-convert\" onclick=\"convertToInteractive('df-c8f61bf0-8355-46e9-af23-99d55a1913a1')\"\n",
              "              title=\"Convert this dataframe to an interactive table.\"\n",
              "              style=\"display:none;\">\n",
              "        \n",
              "  <svg xmlns=\"http://www.w3.org/2000/svg\" height=\"24px\"viewBox=\"0 0 24 24\"\n",
              "       width=\"24px\">\n",
              "    <path d=\"M0 0h24v24H0V0z\" fill=\"none\"/>\n",
              "    <path d=\"M18.56 5.44l.94 2.06.94-2.06 2.06-.94-2.06-.94-.94-2.06-.94 2.06-2.06.94zm-11 1L8.5 8.5l.94-2.06 2.06-.94-2.06-.94L8.5 2.5l-.94 2.06-2.06.94zm10 10l.94 2.06.94-2.06 2.06-.94-2.06-.94-.94-2.06-.94 2.06-2.06.94z\"/><path d=\"M17.41 7.96l-1.37-1.37c-.4-.4-.92-.59-1.43-.59-.52 0-1.04.2-1.43.59L10.3 9.45l-7.72 7.72c-.78.78-.78 2.05 0 2.83L4 21.41c.39.39.9.59 1.41.59.51 0 1.02-.2 1.41-.59l7.78-7.78 2.81-2.81c.8-.78.8-2.07 0-2.86zM5.41 20L4 18.59l7.72-7.72 1.47 1.35L5.41 20z\"/>\n",
              "  </svg>\n",
              "      </button>\n",
              "      \n",
              "  <style>\n",
              "    .colab-df-container {\n",
              "      display:flex;\n",
              "      flex-wrap:wrap;\n",
              "      gap: 12px;\n",
              "    }\n",
              "\n",
              "    .colab-df-convert {\n",
              "      background-color: #E8F0FE;\n",
              "      border: none;\n",
              "      border-radius: 50%;\n",
              "      cursor: pointer;\n",
              "      display: none;\n",
              "      fill: #1967D2;\n",
              "      height: 32px;\n",
              "      padding: 0 0 0 0;\n",
              "      width: 32px;\n",
              "    }\n",
              "\n",
              "    .colab-df-convert:hover {\n",
              "      background-color: #E2EBFA;\n",
              "      box-shadow: 0px 1px 2px rgba(60, 64, 67, 0.3), 0px 1px 3px 1px rgba(60, 64, 67, 0.15);\n",
              "      fill: #174EA6;\n",
              "    }\n",
              "\n",
              "    [theme=dark] .colab-df-convert {\n",
              "      background-color: #3B4455;\n",
              "      fill: #D2E3FC;\n",
              "    }\n",
              "\n",
              "    [theme=dark] .colab-df-convert:hover {\n",
              "      background-color: #434B5C;\n",
              "      box-shadow: 0px 1px 3px 1px rgba(0, 0, 0, 0.15);\n",
              "      filter: drop-shadow(0px 1px 2px rgba(0, 0, 0, 0.3));\n",
              "      fill: #FFFFFF;\n",
              "    }\n",
              "  </style>\n",
              "\n",
              "      <script>\n",
              "        const buttonEl =\n",
              "          document.querySelector('#df-c8f61bf0-8355-46e9-af23-99d55a1913a1 button.colab-df-convert');\n",
              "        buttonEl.style.display =\n",
              "          google.colab.kernel.accessAllowed ? 'block' : 'none';\n",
              "\n",
              "        async function convertToInteractive(key) {\n",
              "          const element = document.querySelector('#df-c8f61bf0-8355-46e9-af23-99d55a1913a1');\n",
              "          const dataTable =\n",
              "            await google.colab.kernel.invokeFunction('convertToInteractive',\n",
              "                                                     [key], {});\n",
              "          if (!dataTable) return;\n",
              "\n",
              "          const docLinkHtml = 'Like what you see? Visit the ' +\n",
              "            '<a target=\"_blank\" href=https://colab.research.google.com/notebooks/data_table.ipynb>data table notebook</a>'\n",
              "            + ' to learn more about interactive tables.';\n",
              "          element.innerHTML = '';\n",
              "          dataTable['output_type'] = 'display_data';\n",
              "          await google.colab.output.renderOutput(dataTable, element);\n",
              "          const docLink = document.createElement('div');\n",
              "          docLink.innerHTML = docLinkHtml;\n",
              "          element.appendChild(docLink);\n",
              "        }\n",
              "      </script>\n",
              "    </div>\n",
              "  </div>\n",
              "  "
            ]
          },
          "metadata": {},
          "execution_count": 3
        }
      ]
    },
    {
      "cell_type": "code",
      "metadata": {
        "colab": {
          "base_uri": "https://localhost:8080/",
          "height": 206
        },
        "id": "UWb7PpLWkWjH",
        "outputId": "c2e4c023-bfc6-475a-a054-e820e557bfb6"
      },
      "source": [
        "#add labels.  Since we are detecting fake news, we set that as class 1\n",
        "fake_news['label'] = 1\n",
        "real_news['label'] = 0\n",
        "fake_news.head()"
      ],
      "execution_count": null,
      "outputs": [
        {
          "output_type": "execute_result",
          "data": {
            "text/plain": [
              "                                               title  \\\n",
              "0   Donald Trump Sends Out Embarrassing New Year’...   \n",
              "1   Drunk Bragging Trump Staffer Started Russian ...   \n",
              "2   Sheriff David Clarke Becomes An Internet Joke...   \n",
              "3   Trump Is So Obsessed He Even Has Obama’s Name...   \n",
              "4   Pope Francis Just Called Out Donald Trump Dur...   \n",
              "\n",
              "                                                text subject  \\\n",
              "0  Donald Trump just couldn t wish all Americans ...    News   \n",
              "1  House Intelligence Committee Chairman Devin Nu...    News   \n",
              "2  On Friday, it was revealed that former Milwauk...    News   \n",
              "3  On Christmas day, Donald Trump announced that ...    News   \n",
              "4  Pope Francis used his annual Christmas Day mes...    News   \n",
              "\n",
              "                date  label  \n",
              "0  December 31, 2017      1  \n",
              "1  December 31, 2017      1  \n",
              "2  December 30, 2017      1  \n",
              "3  December 29, 2017      1  \n",
              "4  December 25, 2017      1  "
            ],
            "text/html": [
              "\n",
              "  <div id=\"df-3b783a36-71b5-4feb-b5ce-03148ad2ba4d\">\n",
              "    <div class=\"colab-df-container\">\n",
              "      <div>\n",
              "<style scoped>\n",
              "    .dataframe tbody tr th:only-of-type {\n",
              "        vertical-align: middle;\n",
              "    }\n",
              "\n",
              "    .dataframe tbody tr th {\n",
              "        vertical-align: top;\n",
              "    }\n",
              "\n",
              "    .dataframe thead th {\n",
              "        text-align: right;\n",
              "    }\n",
              "</style>\n",
              "<table border=\"1\" class=\"dataframe\">\n",
              "  <thead>\n",
              "    <tr style=\"text-align: right;\">\n",
              "      <th></th>\n",
              "      <th>title</th>\n",
              "      <th>text</th>\n",
              "      <th>subject</th>\n",
              "      <th>date</th>\n",
              "      <th>label</th>\n",
              "    </tr>\n",
              "  </thead>\n",
              "  <tbody>\n",
              "    <tr>\n",
              "      <th>0</th>\n",
              "      <td>Donald Trump Sends Out Embarrassing New Year’...</td>\n",
              "      <td>Donald Trump just couldn t wish all Americans ...</td>\n",
              "      <td>News</td>\n",
              "      <td>December 31, 2017</td>\n",
              "      <td>1</td>\n",
              "    </tr>\n",
              "    <tr>\n",
              "      <th>1</th>\n",
              "      <td>Drunk Bragging Trump Staffer Started Russian ...</td>\n",
              "      <td>House Intelligence Committee Chairman Devin Nu...</td>\n",
              "      <td>News</td>\n",
              "      <td>December 31, 2017</td>\n",
              "      <td>1</td>\n",
              "    </tr>\n",
              "    <tr>\n",
              "      <th>2</th>\n",
              "      <td>Sheriff David Clarke Becomes An Internet Joke...</td>\n",
              "      <td>On Friday, it was revealed that former Milwauk...</td>\n",
              "      <td>News</td>\n",
              "      <td>December 30, 2017</td>\n",
              "      <td>1</td>\n",
              "    </tr>\n",
              "    <tr>\n",
              "      <th>3</th>\n",
              "      <td>Trump Is So Obsessed He Even Has Obama’s Name...</td>\n",
              "      <td>On Christmas day, Donald Trump announced that ...</td>\n",
              "      <td>News</td>\n",
              "      <td>December 29, 2017</td>\n",
              "      <td>1</td>\n",
              "    </tr>\n",
              "    <tr>\n",
              "      <th>4</th>\n",
              "      <td>Pope Francis Just Called Out Donald Trump Dur...</td>\n",
              "      <td>Pope Francis used his annual Christmas Day mes...</td>\n",
              "      <td>News</td>\n",
              "      <td>December 25, 2017</td>\n",
              "      <td>1</td>\n",
              "    </tr>\n",
              "  </tbody>\n",
              "</table>\n",
              "</div>\n",
              "      <button class=\"colab-df-convert\" onclick=\"convertToInteractive('df-3b783a36-71b5-4feb-b5ce-03148ad2ba4d')\"\n",
              "              title=\"Convert this dataframe to an interactive table.\"\n",
              "              style=\"display:none;\">\n",
              "        \n",
              "  <svg xmlns=\"http://www.w3.org/2000/svg\" height=\"24px\"viewBox=\"0 0 24 24\"\n",
              "       width=\"24px\">\n",
              "    <path d=\"M0 0h24v24H0V0z\" fill=\"none\"/>\n",
              "    <path d=\"M18.56 5.44l.94 2.06.94-2.06 2.06-.94-2.06-.94-.94-2.06-.94 2.06-2.06.94zm-11 1L8.5 8.5l.94-2.06 2.06-.94-2.06-.94L8.5 2.5l-.94 2.06-2.06.94zm10 10l.94 2.06.94-2.06 2.06-.94-2.06-.94-.94-2.06-.94 2.06-2.06.94z\"/><path d=\"M17.41 7.96l-1.37-1.37c-.4-.4-.92-.59-1.43-.59-.52 0-1.04.2-1.43.59L10.3 9.45l-7.72 7.72c-.78.78-.78 2.05 0 2.83L4 21.41c.39.39.9.59 1.41.59.51 0 1.02-.2 1.41-.59l7.78-7.78 2.81-2.81c.8-.78.8-2.07 0-2.86zM5.41 20L4 18.59l7.72-7.72 1.47 1.35L5.41 20z\"/>\n",
              "  </svg>\n",
              "      </button>\n",
              "      \n",
              "  <style>\n",
              "    .colab-df-container {\n",
              "      display:flex;\n",
              "      flex-wrap:wrap;\n",
              "      gap: 12px;\n",
              "    }\n",
              "\n",
              "    .colab-df-convert {\n",
              "      background-color: #E8F0FE;\n",
              "      border: none;\n",
              "      border-radius: 50%;\n",
              "      cursor: pointer;\n",
              "      display: none;\n",
              "      fill: #1967D2;\n",
              "      height: 32px;\n",
              "      padding: 0 0 0 0;\n",
              "      width: 32px;\n",
              "    }\n",
              "\n",
              "    .colab-df-convert:hover {\n",
              "      background-color: #E2EBFA;\n",
              "      box-shadow: 0px 1px 2px rgba(60, 64, 67, 0.3), 0px 1px 3px 1px rgba(60, 64, 67, 0.15);\n",
              "      fill: #174EA6;\n",
              "    }\n",
              "\n",
              "    [theme=dark] .colab-df-convert {\n",
              "      background-color: #3B4455;\n",
              "      fill: #D2E3FC;\n",
              "    }\n",
              "\n",
              "    [theme=dark] .colab-df-convert:hover {\n",
              "      background-color: #434B5C;\n",
              "      box-shadow: 0px 1px 3px 1px rgba(0, 0, 0, 0.15);\n",
              "      filter: drop-shadow(0px 1px 2px rgba(0, 0, 0, 0.3));\n",
              "      fill: #FFFFFF;\n",
              "    }\n",
              "  </style>\n",
              "\n",
              "      <script>\n",
              "        const buttonEl =\n",
              "          document.querySelector('#df-3b783a36-71b5-4feb-b5ce-03148ad2ba4d button.colab-df-convert');\n",
              "        buttonEl.style.display =\n",
              "          google.colab.kernel.accessAllowed ? 'block' : 'none';\n",
              "\n",
              "        async function convertToInteractive(key) {\n",
              "          const element = document.querySelector('#df-3b783a36-71b5-4feb-b5ce-03148ad2ba4d');\n",
              "          const dataTable =\n",
              "            await google.colab.kernel.invokeFunction('convertToInteractive',\n",
              "                                                     [key], {});\n",
              "          if (!dataTable) return;\n",
              "\n",
              "          const docLinkHtml = 'Like what you see? Visit the ' +\n",
              "            '<a target=\"_blank\" href=https://colab.research.google.com/notebooks/data_table.ipynb>data table notebook</a>'\n",
              "            + ' to learn more about interactive tables.';\n",
              "          element.innerHTML = '';\n",
              "          dataTable['output_type'] = 'display_data';\n",
              "          await google.colab.output.renderOutput(dataTable, element);\n",
              "          const docLink = document.createElement('div');\n",
              "          docLink.innerHTML = docLinkHtml;\n",
              "          element.appendChild(docLink);\n",
              "        }\n",
              "      </script>\n",
              "    </div>\n",
              "  </div>\n",
              "  "
            ]
          },
          "metadata": {},
          "execution_count": 4
        }
      ]
    },
    {
      "cell_type": "code",
      "metadata": {
        "colab": {
          "base_uri": "https://localhost:8080/"
        },
        "id": "ZHWtkrx8YFvd",
        "outputId": "38024ce8-0176-4e76-98bc-d22f90c4e08e"
      },
      "source": [
        "#check the shape\n",
        "print(f'real_news shape: {real_news.shape}, fake_news shape: {fake_news.shape}')"
      ],
      "execution_count": null,
      "outputs": [
        {
          "output_type": "stream",
          "name": "stdout",
          "text": [
            "real_news shape: (21417, 5), fake_news shape: (23481, 5)\n"
          ]
        }
      ]
    },
    {
      "cell_type": "code",
      "metadata": {
        "colab": {
          "base_uri": "https://localhost:8080/"
        },
        "id": "e6L8OLufYAQf",
        "outputId": "121121cf-91d0-45f7-ef01-6de28b0f0716"
      },
      "source": [
        "#check the data types and missing values\n",
        "real_news.info()"
      ],
      "execution_count": null,
      "outputs": [
        {
          "output_type": "stream",
          "name": "stdout",
          "text": [
            "<class 'pandas.core.frame.DataFrame'>\n",
            "RangeIndex: 21417 entries, 0 to 21416\n",
            "Data columns (total 5 columns):\n",
            " #   Column   Non-Null Count  Dtype \n",
            "---  ------   --------------  ----- \n",
            " 0   title    21417 non-null  object\n",
            " 1   text     21417 non-null  object\n",
            " 2   subject  21417 non-null  object\n",
            " 3   date     21417 non-null  object\n",
            " 4   label    21417 non-null  int64 \n",
            "dtypes: int64(1), object(4)\n",
            "memory usage: 836.7+ KB\n"
          ]
        }
      ]
    },
    {
      "cell_type": "code",
      "metadata": {
        "colab": {
          "base_uri": "https://localhost:8080/"
        },
        "id": "hp3nhTKPYVIm",
        "outputId": "87a93d8c-5ed5-487f-c77b-29b913defa0e"
      },
      "source": [
        "fake_news.info()"
      ],
      "execution_count": null,
      "outputs": [
        {
          "output_type": "stream",
          "name": "stdout",
          "text": [
            "<class 'pandas.core.frame.DataFrame'>\n",
            "RangeIndex: 23481 entries, 0 to 23480\n",
            "Data columns (total 5 columns):\n",
            " #   Column   Non-Null Count  Dtype \n",
            "---  ------   --------------  ----- \n",
            " 0   title    23481 non-null  object\n",
            " 1   text     23481 non-null  object\n",
            " 2   subject  23481 non-null  object\n",
            " 3   date     23481 non-null  object\n",
            " 4   label    23481 non-null  int64 \n",
            "dtypes: int64(1), object(4)\n",
            "memory usage: 917.4+ KB\n"
          ]
        }
      ]
    },
    {
      "cell_type": "code",
      "metadata": {
        "colab": {
          "base_uri": "https://localhost:8080/"
        },
        "id": "FebSjMfSYnVe",
        "outputId": "7ba1da8b-b5a8-4b2d-a3a0-879238c00579"
      },
      "source": [
        "#check for duplicates\n",
        "print(f'duplicates in real news: {real_news.duplicated().sum()}, duplicates in fake news: {fake_news.duplicated().sum()}')"
      ],
      "execution_count": null,
      "outputs": [
        {
          "output_type": "stream",
          "name": "stdout",
          "text": [
            "duplicates in real news: 206, duplicates in fake news: 3\n"
          ]
        }
      ]
    },
    {
      "cell_type": "code",
      "metadata": {
        "id": "oXwQfW1EYups"
      },
      "source": [
        "real_news = real_news.drop_duplicates(subset=['text'])\n",
        "fake_news = fake_news.drop_duplicates(subset=['text'])"
      ],
      "execution_count": null,
      "outputs": []
    },
    {
      "cell_type": "markdown",
      "metadata": {
        "id": "XPop6ljUl1hp"
      },
      "source": [
        "A quick look shows us that the real news has the location and source before the text, while the fake news does not.  We want to standardize the data, or else our model will focus on that extra formatting to determine real news, rather than the text of the article"
      ]
    },
    {
      "cell_type": "code",
      "metadata": {
        "id": "ceXCnRfwmm6S"
      },
      "source": [
        "#split the string at the first ' - ' and then just what's after it.\n",
        "real_news['text'] = real_news['text'].str.split(' - ', n = 1)\n",
        "#some samples did not have the intro, so x[1] doesn't work.  x[-1] covers both cases.\n",
        "real_news['text'] = real_news['text'].apply(lambda x: x[-1])"
      ],
      "execution_count": null,
      "outputs": []
    },
    {
      "cell_type": "code",
      "metadata": {
        "colab": {
          "base_uri": "https://localhost:8080/"
        },
        "id": "7jgmi5dJZwQX",
        "outputId": "5184dc28-3a18-46dc-982c-822738b8fd22"
      },
      "source": [
        "real_news['text']"
      ],
      "execution_count": null,
      "outputs": [
        {
          "output_type": "execute_result",
          "data": {
            "text/plain": [
              "0        The head of a conservative Republican faction ...\n",
              "1        Transgender people will be allowed for the fir...\n",
              "2        The special counsel investigation of links bet...\n",
              "3        Trump campaign adviser George Papadopoulos tol...\n",
              "4        President Donald Trump called on the U.S. Post...\n",
              "                               ...                        \n",
              "21412    NATO allies on Tuesday welcomed President Dona...\n",
              "21413    LexisNexis, a provider of legal, regulatory an...\n",
              "21414    In the shadow of disused Soviet-era factories ...\n",
              "21415    Vatican Secretary of State Cardinal Pietro Par...\n",
              "21416    Indonesia will buy 11 Sukhoi fighter jets wort...\n",
              "Name: text, Length: 21192, dtype: object"
            ]
          },
          "metadata": {},
          "execution_count": 11
        }
      ]
    },
    {
      "cell_type": "code",
      "metadata": {
        "colab": {
          "base_uri": "https://localhost:8080/",
          "height": 206
        },
        "id": "y6FaYAdMkx8A",
        "outputId": "d4d13600-4ff2-401e-b02a-32ef318de40c"
      },
      "source": [
        "#concatenate the dataframes into one.\n",
        "df = pd.concat([real_news, fake_news], axis = 0).reset_index(drop=True)\n",
        "df.head()"
      ],
      "execution_count": null,
      "outputs": [
        {
          "output_type": "execute_result",
          "data": {
            "text/plain": [
              "                                               title  \\\n",
              "0  As U.S. budget fight looms, Republicans flip t...   \n",
              "1  U.S. military to accept transgender recruits o...   \n",
              "2  Senior U.S. Republican senator: 'Let Mr. Muell...   \n",
              "3  FBI Russia probe helped by Australian diplomat...   \n",
              "4  Trump wants Postal Service to charge 'much mor...   \n",
              "\n",
              "                                                text       subject  \\\n",
              "0  The head of a conservative Republican faction ...  politicsNews   \n",
              "1  Transgender people will be allowed for the fir...  politicsNews   \n",
              "2  The special counsel investigation of links bet...  politicsNews   \n",
              "3  Trump campaign adviser George Papadopoulos tol...  politicsNews   \n",
              "4  President Donald Trump called on the U.S. Post...  politicsNews   \n",
              "\n",
              "                 date  label  \n",
              "0  December 31, 2017       0  \n",
              "1  December 29, 2017       0  \n",
              "2  December 31, 2017       0  \n",
              "3  December 30, 2017       0  \n",
              "4  December 29, 2017       0  "
            ],
            "text/html": [
              "\n",
              "  <div id=\"df-4b5d2ac1-09e7-4f7b-af40-9cd4ba3e01ee\">\n",
              "    <div class=\"colab-df-container\">\n",
              "      <div>\n",
              "<style scoped>\n",
              "    .dataframe tbody tr th:only-of-type {\n",
              "        vertical-align: middle;\n",
              "    }\n",
              "\n",
              "    .dataframe tbody tr th {\n",
              "        vertical-align: top;\n",
              "    }\n",
              "\n",
              "    .dataframe thead th {\n",
              "        text-align: right;\n",
              "    }\n",
              "</style>\n",
              "<table border=\"1\" class=\"dataframe\">\n",
              "  <thead>\n",
              "    <tr style=\"text-align: right;\">\n",
              "      <th></th>\n",
              "      <th>title</th>\n",
              "      <th>text</th>\n",
              "      <th>subject</th>\n",
              "      <th>date</th>\n",
              "      <th>label</th>\n",
              "    </tr>\n",
              "  </thead>\n",
              "  <tbody>\n",
              "    <tr>\n",
              "      <th>0</th>\n",
              "      <td>As U.S. budget fight looms, Republicans flip t...</td>\n",
              "      <td>The head of a conservative Republican faction ...</td>\n",
              "      <td>politicsNews</td>\n",
              "      <td>December 31, 2017</td>\n",
              "      <td>0</td>\n",
              "    </tr>\n",
              "    <tr>\n",
              "      <th>1</th>\n",
              "      <td>U.S. military to accept transgender recruits o...</td>\n",
              "      <td>Transgender people will be allowed for the fir...</td>\n",
              "      <td>politicsNews</td>\n",
              "      <td>December 29, 2017</td>\n",
              "      <td>0</td>\n",
              "    </tr>\n",
              "    <tr>\n",
              "      <th>2</th>\n",
              "      <td>Senior U.S. Republican senator: 'Let Mr. Muell...</td>\n",
              "      <td>The special counsel investigation of links bet...</td>\n",
              "      <td>politicsNews</td>\n",
              "      <td>December 31, 2017</td>\n",
              "      <td>0</td>\n",
              "    </tr>\n",
              "    <tr>\n",
              "      <th>3</th>\n",
              "      <td>FBI Russia probe helped by Australian diplomat...</td>\n",
              "      <td>Trump campaign adviser George Papadopoulos tol...</td>\n",
              "      <td>politicsNews</td>\n",
              "      <td>December 30, 2017</td>\n",
              "      <td>0</td>\n",
              "    </tr>\n",
              "    <tr>\n",
              "      <th>4</th>\n",
              "      <td>Trump wants Postal Service to charge 'much mor...</td>\n",
              "      <td>President Donald Trump called on the U.S. Post...</td>\n",
              "      <td>politicsNews</td>\n",
              "      <td>December 29, 2017</td>\n",
              "      <td>0</td>\n",
              "    </tr>\n",
              "  </tbody>\n",
              "</table>\n",
              "</div>\n",
              "      <button class=\"colab-df-convert\" onclick=\"convertToInteractive('df-4b5d2ac1-09e7-4f7b-af40-9cd4ba3e01ee')\"\n",
              "              title=\"Convert this dataframe to an interactive table.\"\n",
              "              style=\"display:none;\">\n",
              "        \n",
              "  <svg xmlns=\"http://www.w3.org/2000/svg\" height=\"24px\"viewBox=\"0 0 24 24\"\n",
              "       width=\"24px\">\n",
              "    <path d=\"M0 0h24v24H0V0z\" fill=\"none\"/>\n",
              "    <path d=\"M18.56 5.44l.94 2.06.94-2.06 2.06-.94-2.06-.94-.94-2.06-.94 2.06-2.06.94zm-11 1L8.5 8.5l.94-2.06 2.06-.94-2.06-.94L8.5 2.5l-.94 2.06-2.06.94zm10 10l.94 2.06.94-2.06 2.06-.94-2.06-.94-.94-2.06-.94 2.06-2.06.94z\"/><path d=\"M17.41 7.96l-1.37-1.37c-.4-.4-.92-.59-1.43-.59-.52 0-1.04.2-1.43.59L10.3 9.45l-7.72 7.72c-.78.78-.78 2.05 0 2.83L4 21.41c.39.39.9.59 1.41.59.51 0 1.02-.2 1.41-.59l7.78-7.78 2.81-2.81c.8-.78.8-2.07 0-2.86zM5.41 20L4 18.59l7.72-7.72 1.47 1.35L5.41 20z\"/>\n",
              "  </svg>\n",
              "      </button>\n",
              "      \n",
              "  <style>\n",
              "    .colab-df-container {\n",
              "      display:flex;\n",
              "      flex-wrap:wrap;\n",
              "      gap: 12px;\n",
              "    }\n",
              "\n",
              "    .colab-df-convert {\n",
              "      background-color: #E8F0FE;\n",
              "      border: none;\n",
              "      border-radius: 50%;\n",
              "      cursor: pointer;\n",
              "      display: none;\n",
              "      fill: #1967D2;\n",
              "      height: 32px;\n",
              "      padding: 0 0 0 0;\n",
              "      width: 32px;\n",
              "    }\n",
              "\n",
              "    .colab-df-convert:hover {\n",
              "      background-color: #E2EBFA;\n",
              "      box-shadow: 0px 1px 2px rgba(60, 64, 67, 0.3), 0px 1px 3px 1px rgba(60, 64, 67, 0.15);\n",
              "      fill: #174EA6;\n",
              "    }\n",
              "\n",
              "    [theme=dark] .colab-df-convert {\n",
              "      background-color: #3B4455;\n",
              "      fill: #D2E3FC;\n",
              "    }\n",
              "\n",
              "    [theme=dark] .colab-df-convert:hover {\n",
              "      background-color: #434B5C;\n",
              "      box-shadow: 0px 1px 3px 1px rgba(0, 0, 0, 0.15);\n",
              "      filter: drop-shadow(0px 1px 2px rgba(0, 0, 0, 0.3));\n",
              "      fill: #FFFFFF;\n",
              "    }\n",
              "  </style>\n",
              "\n",
              "      <script>\n",
              "        const buttonEl =\n",
              "          document.querySelector('#df-4b5d2ac1-09e7-4f7b-af40-9cd4ba3e01ee button.colab-df-convert');\n",
              "        buttonEl.style.display =\n",
              "          google.colab.kernel.accessAllowed ? 'block' : 'none';\n",
              "\n",
              "        async function convertToInteractive(key) {\n",
              "          const element = document.querySelector('#df-4b5d2ac1-09e7-4f7b-af40-9cd4ba3e01ee');\n",
              "          const dataTable =\n",
              "            await google.colab.kernel.invokeFunction('convertToInteractive',\n",
              "                                                     [key], {});\n",
              "          if (!dataTable) return;\n",
              "\n",
              "          const docLinkHtml = 'Like what you see? Visit the ' +\n",
              "            '<a target=\"_blank\" href=https://colab.research.google.com/notebooks/data_table.ipynb>data table notebook</a>'\n",
              "            + ' to learn more about interactive tables.';\n",
              "          element.innerHTML = '';\n",
              "          dataTable['output_type'] = 'display_data';\n",
              "          await google.colab.output.renderOutput(dataTable, element);\n",
              "          const docLink = document.createElement('div');\n",
              "          docLink.innerHTML = docLinkHtml;\n",
              "          element.appendChild(docLink);\n",
              "        }\n",
              "      </script>\n",
              "    </div>\n",
              "  </div>\n",
              "  "
            ]
          },
          "metadata": {},
          "execution_count": 12
        }
      ]
    },
    {
      "cell_type": "code",
      "metadata": {
        "colab": {
          "base_uri": "https://localhost:8080/"
        },
        "id": "hDheSE3mlb0X",
        "outputId": "7c1a755b-b043-4ba5-a850-11e40ec2caea"
      },
      "source": [
        "df.info()"
      ],
      "execution_count": null,
      "outputs": [
        {
          "output_type": "stream",
          "name": "stdout",
          "text": [
            "<class 'pandas.core.frame.DataFrame'>\n",
            "RangeIndex: 38647 entries, 0 to 38646\n",
            "Data columns (total 5 columns):\n",
            " #   Column   Non-Null Count  Dtype \n",
            "---  ------   --------------  ----- \n",
            " 0   title    38647 non-null  object\n",
            " 1   text     38647 non-null  object\n",
            " 2   subject  38647 non-null  object\n",
            " 3   date     38647 non-null  object\n",
            " 4   label    38647 non-null  int64 \n",
            "dtypes: int64(1), object(4)\n",
            "memory usage: 1.5+ MB\n"
          ]
        }
      ]
    },
    {
      "cell_type": "markdown",
      "metadata": {
        "id": "4kCY4U67dI-5"
      },
      "source": [
        "# A little feature engineering"
      ]
    },
    {
      "cell_type": "markdown",
      "metadata": {
        "id": "g71jl5EDdM13"
      },
      "source": [
        "We want to keep information that might be included in the title, so one one common way to do that is to just concatenate the title to the start of the text."
      ]
    },
    {
      "cell_type": "code",
      "metadata": {
        "colab": {
          "base_uri": "https://localhost:8080/",
          "height": 641
        },
        "id": "TadKgJdPrc2O",
        "outputId": "ff7fe8eb-aaac-48f1-8d2f-b33105ea5839"
      },
      "source": [
        "df['full_text'] = df['title'] + ' ' + df['text']\n",
        "df"
      ],
      "execution_count": null,
      "outputs": [
        {
          "output_type": "execute_result",
          "data": {
            "text/plain": [
              "                                                   title  \\\n",
              "0      As U.S. budget fight looms, Republicans flip t...   \n",
              "1      U.S. military to accept transgender recruits o...   \n",
              "2      Senior U.S. Republican senator: 'Let Mr. Muell...   \n",
              "3      FBI Russia probe helped by Australian diplomat...   \n",
              "4      Trump wants Postal Service to charge 'much mor...   \n",
              "...                                                  ...   \n",
              "38642  The White House and The Theatrics of ‘Gun Cont...   \n",
              "38643  Activists or Terrorists? How Media Controls an...   \n",
              "38644  BOILER ROOM – No Surrender, No Retreat, Heads ...   \n",
              "38645  Federal Showdown Looms in Oregon After BLM Abu...   \n",
              "38646  A Troubled King: Chicago’s Rahm Emanuel Desper...   \n",
              "\n",
              "                                                    text       subject  \\\n",
              "0      The head of a conservative Republican faction ...  politicsNews   \n",
              "1      Transgender people will be allowed for the fir...  politicsNews   \n",
              "2      The special counsel investigation of links bet...  politicsNews   \n",
              "3      Trump campaign adviser George Papadopoulos tol...  politicsNews   \n",
              "4      President Donald Trump called on the U.S. Post...  politicsNews   \n",
              "...                                                  ...           ...   \n",
              "38642  21st Century Wire says All the world s a stage...       US_News   \n",
              "38643    Randy Johnson 21st Century WireThe majority ...       US_News   \n",
              "38644  Tune in to the Alternate Current Radio Network...       US_News   \n",
              "38645  21st Century Wire says A new front has just op...       US_News   \n",
              "38646  21st Century Wire says It s not that far away....       US_News   \n",
              "\n",
              "                     date  label  \\\n",
              "0      December 31, 2017       0   \n",
              "1      December 29, 2017       0   \n",
              "2      December 31, 2017       0   \n",
              "3      December 30, 2017       0   \n",
              "4      December 29, 2017       0   \n",
              "...                   ...    ...   \n",
              "38642     January 7, 2016      1   \n",
              "38643     January 7, 2016      1   \n",
              "38644     January 6, 2016      1   \n",
              "38645     January 4, 2016      1   \n",
              "38646     January 2, 2016      1   \n",
              "\n",
              "                                               full_text  \n",
              "0      As U.S. budget fight looms, Republicans flip t...  \n",
              "1      U.S. military to accept transgender recruits o...  \n",
              "2      Senior U.S. Republican senator: 'Let Mr. Muell...  \n",
              "3      FBI Russia probe helped by Australian diplomat...  \n",
              "4      Trump wants Postal Service to charge 'much mor...  \n",
              "...                                                  ...  \n",
              "38642  The White House and The Theatrics of ‘Gun Cont...  \n",
              "38643  Activists or Terrorists? How Media Controls an...  \n",
              "38644  BOILER ROOM – No Surrender, No Retreat, Heads ...  \n",
              "38645  Federal Showdown Looms in Oregon After BLM Abu...  \n",
              "38646  A Troubled King: Chicago’s Rahm Emanuel Desper...  \n",
              "\n",
              "[38647 rows x 6 columns]"
            ],
            "text/html": [
              "\n",
              "  <div id=\"df-bb23f131-8e94-4ad0-8bf3-fee1c86e08d0\">\n",
              "    <div class=\"colab-df-container\">\n",
              "      <div>\n",
              "<style scoped>\n",
              "    .dataframe tbody tr th:only-of-type {\n",
              "        vertical-align: middle;\n",
              "    }\n",
              "\n",
              "    .dataframe tbody tr th {\n",
              "        vertical-align: top;\n",
              "    }\n",
              "\n",
              "    .dataframe thead th {\n",
              "        text-align: right;\n",
              "    }\n",
              "</style>\n",
              "<table border=\"1\" class=\"dataframe\">\n",
              "  <thead>\n",
              "    <tr style=\"text-align: right;\">\n",
              "      <th></th>\n",
              "      <th>title</th>\n",
              "      <th>text</th>\n",
              "      <th>subject</th>\n",
              "      <th>date</th>\n",
              "      <th>label</th>\n",
              "      <th>full_text</th>\n",
              "    </tr>\n",
              "  </thead>\n",
              "  <tbody>\n",
              "    <tr>\n",
              "      <th>0</th>\n",
              "      <td>As U.S. budget fight looms, Republicans flip t...</td>\n",
              "      <td>The head of a conservative Republican faction ...</td>\n",
              "      <td>politicsNews</td>\n",
              "      <td>December 31, 2017</td>\n",
              "      <td>0</td>\n",
              "      <td>As U.S. budget fight looms, Republicans flip t...</td>\n",
              "    </tr>\n",
              "    <tr>\n",
              "      <th>1</th>\n",
              "      <td>U.S. military to accept transgender recruits o...</td>\n",
              "      <td>Transgender people will be allowed for the fir...</td>\n",
              "      <td>politicsNews</td>\n",
              "      <td>December 29, 2017</td>\n",
              "      <td>0</td>\n",
              "      <td>U.S. military to accept transgender recruits o...</td>\n",
              "    </tr>\n",
              "    <tr>\n",
              "      <th>2</th>\n",
              "      <td>Senior U.S. Republican senator: 'Let Mr. Muell...</td>\n",
              "      <td>The special counsel investigation of links bet...</td>\n",
              "      <td>politicsNews</td>\n",
              "      <td>December 31, 2017</td>\n",
              "      <td>0</td>\n",
              "      <td>Senior U.S. Republican senator: 'Let Mr. Muell...</td>\n",
              "    </tr>\n",
              "    <tr>\n",
              "      <th>3</th>\n",
              "      <td>FBI Russia probe helped by Australian diplomat...</td>\n",
              "      <td>Trump campaign adviser George Papadopoulos tol...</td>\n",
              "      <td>politicsNews</td>\n",
              "      <td>December 30, 2017</td>\n",
              "      <td>0</td>\n",
              "      <td>FBI Russia probe helped by Australian diplomat...</td>\n",
              "    </tr>\n",
              "    <tr>\n",
              "      <th>4</th>\n",
              "      <td>Trump wants Postal Service to charge 'much mor...</td>\n",
              "      <td>President Donald Trump called on the U.S. Post...</td>\n",
              "      <td>politicsNews</td>\n",
              "      <td>December 29, 2017</td>\n",
              "      <td>0</td>\n",
              "      <td>Trump wants Postal Service to charge 'much mor...</td>\n",
              "    </tr>\n",
              "    <tr>\n",
              "      <th>...</th>\n",
              "      <td>...</td>\n",
              "      <td>...</td>\n",
              "      <td>...</td>\n",
              "      <td>...</td>\n",
              "      <td>...</td>\n",
              "      <td>...</td>\n",
              "    </tr>\n",
              "    <tr>\n",
              "      <th>38642</th>\n",
              "      <td>The White House and The Theatrics of ‘Gun Cont...</td>\n",
              "      <td>21st Century Wire says All the world s a stage...</td>\n",
              "      <td>US_News</td>\n",
              "      <td>January 7, 2016</td>\n",
              "      <td>1</td>\n",
              "      <td>The White House and The Theatrics of ‘Gun Cont...</td>\n",
              "    </tr>\n",
              "    <tr>\n",
              "      <th>38643</th>\n",
              "      <td>Activists or Terrorists? How Media Controls an...</td>\n",
              "      <td>Randy Johnson 21st Century WireThe majority ...</td>\n",
              "      <td>US_News</td>\n",
              "      <td>January 7, 2016</td>\n",
              "      <td>1</td>\n",
              "      <td>Activists or Terrorists? How Media Controls an...</td>\n",
              "    </tr>\n",
              "    <tr>\n",
              "      <th>38644</th>\n",
              "      <td>BOILER ROOM – No Surrender, No Retreat, Heads ...</td>\n",
              "      <td>Tune in to the Alternate Current Radio Network...</td>\n",
              "      <td>US_News</td>\n",
              "      <td>January 6, 2016</td>\n",
              "      <td>1</td>\n",
              "      <td>BOILER ROOM – No Surrender, No Retreat, Heads ...</td>\n",
              "    </tr>\n",
              "    <tr>\n",
              "      <th>38645</th>\n",
              "      <td>Federal Showdown Looms in Oregon After BLM Abu...</td>\n",
              "      <td>21st Century Wire says A new front has just op...</td>\n",
              "      <td>US_News</td>\n",
              "      <td>January 4, 2016</td>\n",
              "      <td>1</td>\n",
              "      <td>Federal Showdown Looms in Oregon After BLM Abu...</td>\n",
              "    </tr>\n",
              "    <tr>\n",
              "      <th>38646</th>\n",
              "      <td>A Troubled King: Chicago’s Rahm Emanuel Desper...</td>\n",
              "      <td>21st Century Wire says It s not that far away....</td>\n",
              "      <td>US_News</td>\n",
              "      <td>January 2, 2016</td>\n",
              "      <td>1</td>\n",
              "      <td>A Troubled King: Chicago’s Rahm Emanuel Desper...</td>\n",
              "    </tr>\n",
              "  </tbody>\n",
              "</table>\n",
              "<p>38647 rows × 6 columns</p>\n",
              "</div>\n",
              "      <button class=\"colab-df-convert\" onclick=\"convertToInteractive('df-bb23f131-8e94-4ad0-8bf3-fee1c86e08d0')\"\n",
              "              title=\"Convert this dataframe to an interactive table.\"\n",
              "              style=\"display:none;\">\n",
              "        \n",
              "  <svg xmlns=\"http://www.w3.org/2000/svg\" height=\"24px\"viewBox=\"0 0 24 24\"\n",
              "       width=\"24px\">\n",
              "    <path d=\"M0 0h24v24H0V0z\" fill=\"none\"/>\n",
              "    <path d=\"M18.56 5.44l.94 2.06.94-2.06 2.06-.94-2.06-.94-.94-2.06-.94 2.06-2.06.94zm-11 1L8.5 8.5l.94-2.06 2.06-.94-2.06-.94L8.5 2.5l-.94 2.06-2.06.94zm10 10l.94 2.06.94-2.06 2.06-.94-2.06-.94-.94-2.06-.94 2.06-2.06.94z\"/><path d=\"M17.41 7.96l-1.37-1.37c-.4-.4-.92-.59-1.43-.59-.52 0-1.04.2-1.43.59L10.3 9.45l-7.72 7.72c-.78.78-.78 2.05 0 2.83L4 21.41c.39.39.9.59 1.41.59.51 0 1.02-.2 1.41-.59l7.78-7.78 2.81-2.81c.8-.78.8-2.07 0-2.86zM5.41 20L4 18.59l7.72-7.72 1.47 1.35L5.41 20z\"/>\n",
              "  </svg>\n",
              "      </button>\n",
              "      \n",
              "  <style>\n",
              "    .colab-df-container {\n",
              "      display:flex;\n",
              "      flex-wrap:wrap;\n",
              "      gap: 12px;\n",
              "    }\n",
              "\n",
              "    .colab-df-convert {\n",
              "      background-color: #E8F0FE;\n",
              "      border: none;\n",
              "      border-radius: 50%;\n",
              "      cursor: pointer;\n",
              "      display: none;\n",
              "      fill: #1967D2;\n",
              "      height: 32px;\n",
              "      padding: 0 0 0 0;\n",
              "      width: 32px;\n",
              "    }\n",
              "\n",
              "    .colab-df-convert:hover {\n",
              "      background-color: #E2EBFA;\n",
              "      box-shadow: 0px 1px 2px rgba(60, 64, 67, 0.3), 0px 1px 3px 1px rgba(60, 64, 67, 0.15);\n",
              "      fill: #174EA6;\n",
              "    }\n",
              "\n",
              "    [theme=dark] .colab-df-convert {\n",
              "      background-color: #3B4455;\n",
              "      fill: #D2E3FC;\n",
              "    }\n",
              "\n",
              "    [theme=dark] .colab-df-convert:hover {\n",
              "      background-color: #434B5C;\n",
              "      box-shadow: 0px 1px 3px 1px rgba(0, 0, 0, 0.15);\n",
              "      filter: drop-shadow(0px 1px 2px rgba(0, 0, 0, 0.3));\n",
              "      fill: #FFFFFF;\n",
              "    }\n",
              "  </style>\n",
              "\n",
              "      <script>\n",
              "        const buttonEl =\n",
              "          document.querySelector('#df-bb23f131-8e94-4ad0-8bf3-fee1c86e08d0 button.colab-df-convert');\n",
              "        buttonEl.style.display =\n",
              "          google.colab.kernel.accessAllowed ? 'block' : 'none';\n",
              "\n",
              "        async function convertToInteractive(key) {\n",
              "          const element = document.querySelector('#df-bb23f131-8e94-4ad0-8bf3-fee1c86e08d0');\n",
              "          const dataTable =\n",
              "            await google.colab.kernel.invokeFunction('convertToInteractive',\n",
              "                                                     [key], {});\n",
              "          if (!dataTable) return;\n",
              "\n",
              "          const docLinkHtml = 'Like what you see? Visit the ' +\n",
              "            '<a target=\"_blank\" href=https://colab.research.google.com/notebooks/data_table.ipynb>data table notebook</a>'\n",
              "            + ' to learn more about interactive tables.';\n",
              "          element.innerHTML = '';\n",
              "          dataTable['output_type'] = 'display_data';\n",
              "          await google.colab.output.renderOutput(dataTable, element);\n",
              "          const docLink = document.createElement('div');\n",
              "          docLink.innerHTML = docLinkHtml;\n",
              "          element.appendChild(docLink);\n",
              "        }\n",
              "      </script>\n",
              "    </div>\n",
              "  </div>\n",
              "  "
            ]
          },
          "metadata": {},
          "execution_count": 14
        }
      ]
    },
    {
      "cell_type": "markdown",
      "metadata": {
        "id": "qJEXW-mSdmw5"
      },
      "source": [
        "# 2. Tokenizing"
      ]
    },
    {
      "cell_type": "markdown",
      "metadata": {
        "id": "9e7Yq5Ojd4Jw"
      },
      "source": [
        "We want to isolate each word into a separate token so we can remove stop words, punctuation, capitals, and other special characters.  Our model will represent words like 'Horse', 'horse.', and 'horse' as different words.  We want them to be considered the same.\n",
        "\n",
        "I've also decided that I want to remove all numbers, punctuation, and special characters.  I'll use regex to only return letters and whitespace from the original document before splitting it into tokens with str.split().\n",
        "\n",
        "I highly recommend using [Regexr.com](https://regexr.com/) to practice your regular expression and experiment to get the right expression."
      ]
    },
    {
      "cell_type": "code",
      "metadata": {
        "id": "idu2W40Rdeba"
      },
      "source": [
        "import re\n",
        "#tokenize text, lower case, remove all symbols except letters\n",
        "def clean_text(doc):\n",
        "  doc = doc.lower()\n",
        "  doc = re.sub(f\"[^a-z\\s]+\", '', doc)\n",
        "  tokens = doc.split()\n",
        "  return tokens"
      ],
      "execution_count": null,
      "outputs": []
    },
    {
      "cell_type": "code",
      "metadata": {
        "colab": {
          "base_uri": "https://localhost:8080/"
        },
        "id": "wwi6EZnAmNZL",
        "outputId": "3bd3ed84-e7e5-44d3-889c-6353b695c80a"
      },
      "source": [
        "#series.apply() is another important tool for NLP.\n",
        "df['tokens'] = df['full_text'].apply(clean_text)\n",
        "df['tokens']"
      ],
      "execution_count": null,
      "outputs": [
        {
          "output_type": "execute_result",
          "data": {
            "text/plain": [
              "0        [as, us, budget, fight, looms, republicans, fl...\n",
              "1        [us, military, to, accept, transgender, recrui...\n",
              "2        [senior, us, republican, senator, let, mr, mue...\n",
              "3        [fbi, russia, probe, helped, by, australian, d...\n",
              "4        [trump, wants, postal, service, to, charge, mu...\n",
              "                               ...                        \n",
              "38642    [the, white, house, and, the, theatrics, of, g...\n",
              "38643    [activists, or, terrorists, how, media, contro...\n",
              "38644    [boiler, room, no, surrender, no, retreat, hea...\n",
              "38645    [federal, showdown, looms, in, oregon, after, ...\n",
              "38646    [a, troubled, king, chicagos, rahm, emanuel, d...\n",
              "Name: tokens, Length: 38647, dtype: object"
            ]
          },
          "metadata": {},
          "execution_count": 16
        }
      ]
    },
    {
      "cell_type": "markdown",
      "metadata": {
        "id": "myVAnAGIpOe_"
      },
      "source": [
        "# 3. Remove Stopwords\n",
        "\n",
        "We can use list comprehension to return a list of the words in each list of tokens that are not present in our list of stop words"
      ]
    },
    {
      "cell_type": "code",
      "metadata": {
        "colab": {
          "base_uri": "https://localhost:8080/"
        },
        "id": "ynHwYyFZp9et",
        "outputId": "32e5ed7d-0bfd-415f-d782-b37b2d18c646"
      },
      "source": [
        "stopwords = nltk.corpus.stopwords.words('english')\n",
        "\n",
        "stopwords"
      ],
      "execution_count": null,
      "outputs": [
        {
          "output_type": "execute_result",
          "data": {
            "text/plain": [
              "['i',\n",
              " 'me',\n",
              " 'my',\n",
              " 'myself',\n",
              " 'we',\n",
              " 'our',\n",
              " 'ours',\n",
              " 'ourselves',\n",
              " 'you',\n",
              " \"you're\",\n",
              " \"you've\",\n",
              " \"you'll\",\n",
              " \"you'd\",\n",
              " 'your',\n",
              " 'yours',\n",
              " 'yourself',\n",
              " 'yourselves',\n",
              " 'he',\n",
              " 'him',\n",
              " 'his',\n",
              " 'himself',\n",
              " 'she',\n",
              " \"she's\",\n",
              " 'her',\n",
              " 'hers',\n",
              " 'herself',\n",
              " 'it',\n",
              " \"it's\",\n",
              " 'its',\n",
              " 'itself',\n",
              " 'they',\n",
              " 'them',\n",
              " 'their',\n",
              " 'theirs',\n",
              " 'themselves',\n",
              " 'what',\n",
              " 'which',\n",
              " 'who',\n",
              " 'whom',\n",
              " 'this',\n",
              " 'that',\n",
              " \"that'll\",\n",
              " 'these',\n",
              " 'those',\n",
              " 'am',\n",
              " 'is',\n",
              " 'are',\n",
              " 'was',\n",
              " 'were',\n",
              " 'be',\n",
              " 'been',\n",
              " 'being',\n",
              " 'have',\n",
              " 'has',\n",
              " 'had',\n",
              " 'having',\n",
              " 'do',\n",
              " 'does',\n",
              " 'did',\n",
              " 'doing',\n",
              " 'a',\n",
              " 'an',\n",
              " 'the',\n",
              " 'and',\n",
              " 'but',\n",
              " 'if',\n",
              " 'or',\n",
              " 'because',\n",
              " 'as',\n",
              " 'until',\n",
              " 'while',\n",
              " 'of',\n",
              " 'at',\n",
              " 'by',\n",
              " 'for',\n",
              " 'with',\n",
              " 'about',\n",
              " 'against',\n",
              " 'between',\n",
              " 'into',\n",
              " 'through',\n",
              " 'during',\n",
              " 'before',\n",
              " 'after',\n",
              " 'above',\n",
              " 'below',\n",
              " 'to',\n",
              " 'from',\n",
              " 'up',\n",
              " 'down',\n",
              " 'in',\n",
              " 'out',\n",
              " 'on',\n",
              " 'off',\n",
              " 'over',\n",
              " 'under',\n",
              " 'again',\n",
              " 'further',\n",
              " 'then',\n",
              " 'once',\n",
              " 'here',\n",
              " 'there',\n",
              " 'when',\n",
              " 'where',\n",
              " 'why',\n",
              " 'how',\n",
              " 'all',\n",
              " 'any',\n",
              " 'both',\n",
              " 'each',\n",
              " 'few',\n",
              " 'more',\n",
              " 'most',\n",
              " 'other',\n",
              " 'some',\n",
              " 'such',\n",
              " 'no',\n",
              " 'nor',\n",
              " 'not',\n",
              " 'only',\n",
              " 'own',\n",
              " 'same',\n",
              " 'so',\n",
              " 'than',\n",
              " 'too',\n",
              " 'very',\n",
              " 's',\n",
              " 't',\n",
              " 'can',\n",
              " 'will',\n",
              " 'just',\n",
              " 'don',\n",
              " \"don't\",\n",
              " 'should',\n",
              " \"should've\",\n",
              " 'now',\n",
              " 'd',\n",
              " 'll',\n",
              " 'm',\n",
              " 'o',\n",
              " 're',\n",
              " 've',\n",
              " 'y',\n",
              " 'ain',\n",
              " 'aren',\n",
              " \"aren't\",\n",
              " 'couldn',\n",
              " \"couldn't\",\n",
              " 'didn',\n",
              " \"didn't\",\n",
              " 'doesn',\n",
              " \"doesn't\",\n",
              " 'hadn',\n",
              " \"hadn't\",\n",
              " 'hasn',\n",
              " \"hasn't\",\n",
              " 'haven',\n",
              " \"haven't\",\n",
              " 'isn',\n",
              " \"isn't\",\n",
              " 'ma',\n",
              " 'mightn',\n",
              " \"mightn't\",\n",
              " 'mustn',\n",
              " \"mustn't\",\n",
              " 'needn',\n",
              " \"needn't\",\n",
              " 'shan',\n",
              " \"shan't\",\n",
              " 'shouldn',\n",
              " \"shouldn't\",\n",
              " 'wasn',\n",
              " \"wasn't\",\n",
              " 'weren',\n",
              " \"weren't\",\n",
              " 'won',\n",
              " \"won't\",\n",
              " 'wouldn',\n",
              " \"wouldn't\"]"
            ]
          },
          "metadata": {},
          "execution_count": 17
        }
      ]
    },
    {
      "cell_type": "code",
      "metadata": {
        "colab": {
          "base_uri": "https://localhost:8080/"
        },
        "id": "9MRvplNapUBd",
        "outputId": "4338f09a-761e-48ed-de8d-03ef4cd444e5"
      },
      "source": [
        "#removes stop words from a list of tokens\n",
        "def remove_stops(token_list):\n",
        "  #this is list comprehension below.  We haven't learned it in the curriculum\n",
        "  #but you can essentially put a loop in a list format to generate that list.\n",
        "  #this is another very common tool for NLP.\n",
        "  no_stops = [word for word in token_list if word not in stopwords]\n",
        "  return no_stops\n",
        "\n",
        "df['no_stop'] = df['tokens'].apply(remove_stops)\n",
        "df['no_stop']"
      ],
      "execution_count": null,
      "outputs": [
        {
          "output_type": "execute_result",
          "data": {
            "text/plain": [
              "0        [us, budget, fight, looms, republicans, flip, ...\n",
              "1        [us, military, accept, transgender, recruits, ...\n",
              "2        [senior, us, republican, senator, let, mr, mue...\n",
              "3        [fbi, russia, probe, helped, australian, diplo...\n",
              "4        [trump, wants, postal, service, charge, much, ...\n",
              "                               ...                        \n",
              "38642    [white, house, theatrics, gun, control, st, ce...\n",
              "38643    [activists, terrorists, media, controls, dicta...\n",
              "38644    [boiler, room, surrender, retreat, heads, roll...\n",
              "38645    [federal, showdown, looms, oregon, blm, abuse,...\n",
              "38646    [troubled, king, chicagos, rahm, emanuel, desp...\n",
              "Name: no_stop, Length: 38647, dtype: object"
            ]
          },
          "metadata": {},
          "execution_count": 18
        }
      ]
    },
    {
      "cell_type": "markdown",
      "metadata": {
        "id": "QqzrHz0gncJ0"
      },
      "source": [
        "# 4. Lemmatizing\n",
        "\n",
        "We can further reduce our vocabulary (dimensionality of our dataset) by lemmatizing.  This transforms words into their root.  Run and runs are transformed into 'run' since they have the same semantic meaning with only syntactic differences."
      ]
    },
    {
      "cell_type": "code",
      "metadata": {
        "colab": {
          "base_uri": "https://localhost:8080/",
          "height": 73
        },
        "id": "-J0ioxF8fUKF",
        "outputId": "de96808a-4b50-42f6-f80d-8b5ee48ffb73"
      },
      "source": [
        "#lemmatizer from the nltk package\n",
        "nltk.download('omw-1.4')\n",
        "lemmatizer = nltk.stem.WordNetLemmatizer()\n",
        "lemmatizer.lemmatize('runs')"
      ],
      "execution_count": null,
      "outputs": [
        {
          "output_type": "stream",
          "name": "stderr",
          "text": [
            "[nltk_data] Downloading package omw-1.4 to /root/nltk_data...\n",
            "[nltk_data]   Unzipping corpora/omw-1.4.zip.\n"
          ]
        },
        {
          "output_type": "execute_result",
          "data": {
            "text/plain": [
              "'run'"
            ],
            "application/vnd.google.colaboratory.intrinsic+json": {
              "type": "string"
            }
          },
          "metadata": {},
          "execution_count": 20
        }
      ]
    },
    {
      "cell_type": "code",
      "metadata": {
        "colab": {
          "base_uri": "https://localhost:8080/"
        },
        "id": "thphgF1-kaXg",
        "outputId": "8433982f-8495-43fb-b432-64c4c1c417db"
      },
      "source": [
        "#function to lemmatize a list of tokens\n",
        "def lemmatize_tokens(token_list):\n",
        "  lemmas = [lemmatizer.lemmatize(token) for token in token_list]\n",
        "  return lemmas\n",
        "\n",
        "df['lemmas'] = df['no_stop'].apply(lemmatize_tokens)\n",
        "df['lemmas']"
      ],
      "execution_count": null,
      "outputs": [
        {
          "output_type": "execute_result",
          "data": {
            "text/plain": [
              "0        [u, budget, fight, loom, republican, flip, fis...\n",
              "1        [u, military, accept, transgender, recruit, mo...\n",
              "2        [senior, u, republican, senator, let, mr, muel...\n",
              "3        [fbi, russia, probe, helped, australian, diplo...\n",
              "4        [trump, want, postal, service, charge, much, a...\n",
              "                               ...                        \n",
              "38642    [white, house, theatrics, gun, control, st, ce...\n",
              "38643    [activist, terrorist, medium, control, dictate...\n",
              "38644    [boiler, room, surrender, retreat, head, roll,...\n",
              "38645    [federal, showdown, loom, oregon, blm, abuse, ...\n",
              "38646    [troubled, king, chicago, rahm, emanuel, despe...\n",
              "Name: lemmas, Length: 38647, dtype: object"
            ]
          },
          "metadata": {},
          "execution_count": 21
        }
      ]
    },
    {
      "cell_type": "markdown",
      "metadata": {
        "id": "bbp2zolIq8jL"
      },
      "source": [
        "# 5. Vectorizing\n",
        "\n",
        "The final step in the data preparation is to transform our list of token words into vectors of floats or integers.  We will use sklearn tools for this.\n",
        "\n",
        "## Count Vectorizing\n",
        "The simplest form of bag of words vectorization is count vectorizing.  Each column of our data will be a word in the vocabulary of our training corpus.  Each value for each of our matrix will the number of times that word appears in a given document.  Obviously the vast majority of values will be zero.\n",
        "\n",
        "We will be using an sklearn transformer for this task.\n",
        "\n",
        "The columns should only represent words in our training corpus, since our model should not know anything about our testing data.  Therefor we need to perform our validation split before vectorizing.\n",
        "\n",
        "NOTE: The sklearn vectorizers expect one string, not a list of tokens.  We will need to rejoin our list of tokens back into one long string."
      ]
    },
    {
      "cell_type": "code",
      "metadata": {
        "colab": {
          "base_uri": "https://localhost:8080/"
        },
        "id": "vApIAUA9tC5s",
        "outputId": "0eb5c5b3-522a-4eba-bac4-a70e6ba7386d"
      },
      "source": [
        "#combine token lists back into one string\n",
        "df['lemmas'].str.join(' ')"
      ],
      "execution_count": null,
      "outputs": [
        {
          "output_type": "execute_result",
          "data": {
            "text/plain": [
              "0        u budget fight loom republican flip fiscal scr...\n",
              "1        u military accept transgender recruit monday p...\n",
              "2        senior u republican senator let mr mueller job...\n",
              "3        fbi russia probe helped australian diplomat ti...\n",
              "4        trump want postal service charge much amazon s...\n",
              "                               ...                        \n",
              "38642    white house theatrics gun control st century w...\n",
              "38643    activist terrorist medium control dictate narr...\n",
              "38644    boiler room surrender retreat head roll ep tun...\n",
              "38645    federal showdown loom oregon blm abuse local r...\n",
              "38646    troubled king chicago rahm emanuel desperate s...\n",
              "Name: lemmas, Length: 38647, dtype: object"
            ]
          },
          "metadata": {},
          "execution_count": 22
        }
      ]
    },
    {
      "cell_type": "markdown",
      "metadata": {
        "id": "nmHjda8StCps"
      },
      "source": []
    },
    {
      "cell_type": "code",
      "metadata": {
        "id": "6_OH56Fsqeab"
      },
      "source": [
        "#train/test split\n",
        "from sklearn.model_selection import train_test_split\n",
        "\n",
        "X = df['lemmas'].str.join(' ')\n",
        "y = df['label']\n",
        "\n",
        "X_train, X_test, y_train, y_test = train_test_split(X, y, shuffle=True, random_state=42)"
      ],
      "execution_count": null,
      "outputs": []
    },
    {
      "cell_type": "code",
      "metadata": {
        "colab": {
          "base_uri": "https://localhost:8080/"
        },
        "id": "WxZiUnlpsaxs",
        "outputId": "0acd4b69-0f9f-4094-d46b-03b9b0790626"
      },
      "source": [
        "#vectorize the strings\n",
        "from sklearn.feature_extraction.text import CountVectorizer\n",
        "\n",
        "vectorizer = CountVectorizer()\n",
        "vectorizer.fit(X_train)\n",
        "\n",
        "X_train_vec = vectorizer.transform(X_train)\n",
        "X_test_vec = vectorizer.transform(X_test)\n",
        "X_train_vec.shape"
      ],
      "execution_count": null,
      "outputs": [
        {
          "output_type": "execute_result",
          "data": {
            "text/plain": [
              "(28985, 170807)"
            ]
          },
          "metadata": {},
          "execution_count": 24
        }
      ]
    },
    {
      "cell_type": "markdown",
      "metadata": {
        "id": "vNQz-NEptloQ"
      },
      "source": [
        "As you can see, the shape of X_train_vec has exploded.  It now has 170,807 columns along with the nearly 30k rows.  That represents 4,930,899,215 values.  This would not normally fit in memory, except that the vectorizer has compressed the data.  Remember we said it's mostly zeros?\n",
        "\n",
        "This new type of array is called a 'sparse array' and sklearn models and handle them just fine.  They compress out all of the zeros and just store the non-zero elements along with a tag for where in the matrix they belong."
      ]
    },
    {
      "cell_type": "code",
      "metadata": {
        "colab": {
          "base_uri": "https://localhost:8080/"
        },
        "id": "oyp5P9gJsxhk",
        "outputId": "482f4024-9048-411c-f567-505837947473"
      },
      "source": [
        "type(X_train_vec)"
      ],
      "execution_count": null,
      "outputs": [
        {
          "output_type": "execute_result",
          "data": {
            "text/plain": [
              "scipy.sparse.csr.csr_matrix"
            ]
          },
          "metadata": {},
          "execution_count": 25
        }
      ]
    },
    {
      "cell_type": "markdown",
      "metadata": {
        "id": "rEnJBJF7uUxh"
      },
      "source": [
        "# 6. Modeling\n",
        "\n",
        "Modeling vectorized text is actually just like modeling any other tabular data.  Let's try our good ol' logistic regression."
      ]
    },
    {
      "cell_type": "code",
      "metadata": {
        "colab": {
          "base_uri": "https://localhost:8080/"
        },
        "id": "RO4kVQMztpGt",
        "outputId": "ad42f9b2-c2c7-472a-ac6d-5cc3575100e8"
      },
      "source": [
        "from sklearn.linear_model import LogisticRegression\n",
        "\n",
        "logreg = LogisticRegression(max_iter=1000)\n",
        "\n",
        "logreg.fit(X_train_vec, y_train)\n"
      ],
      "execution_count": null,
      "outputs": [
        {
          "output_type": "execute_result",
          "data": {
            "text/plain": [
              "LogisticRegression(max_iter=1000)"
            ]
          },
          "metadata": {},
          "execution_count": 26
        }
      ]
    },
    {
      "cell_type": "code",
      "metadata": {
        "colab": {
          "base_uri": "https://localhost:8080/"
        },
        "id": "CCTdHq7butfg",
        "outputId": "81a50f54-4e7b-4586-bde9-bf4ed2862f94"
      },
      "source": [
        "from sklearn.metrics import accuracy_score\n",
        "\n",
        "y_preds = logreg.predict(X_test_vec)\n",
        "accuracy = accuracy_score(y_test, y_preds)\n",
        "print(f'The accuracy of our logistic regression model is: {accuracy}')"
      ],
      "execution_count": null,
      "outputs": [
        {
          "output_type": "stream",
          "name": "stdout",
          "text": [
            "The accuracy of our logistic regression model is: 0.9819913061477955\n"
          ]
        }
      ]
    },
    {
      "cell_type": "markdown",
      "metadata": {
        "id": "JAefsTqcvOgG"
      },
      "source": [
        "# 7. Evaluate\n",
        "\n",
        "Let's take a quick look at a confusion matrix to see which class was harder to predict."
      ]
    },
    {
      "cell_type": "code",
      "metadata": {
        "colab": {
          "base_uri": "https://localhost:8080/",
          "height": 283
        },
        "id": "nz0GsOcwvVxC",
        "outputId": "f079cdb9-34b6-434e-939e-54169c2809d5"
      },
      "source": [
        "from sklearn.metrics import confusion_matrix\n",
        "from seaborn import heatmap\n",
        "conf_mat = confusion_matrix(y_test, y_preds, normalize='true')\n",
        "\n",
        "heatmap(conf_mat, annot=True, cmap='Greens',\n",
        "        xticklabels=['True', 'Fake'],\n",
        "        yticklabels=['True', 'Fake'])"
      ],
      "execution_count": null,
      "outputs": [
        {
          "output_type": "execute_result",
          "data": {
            "text/plain": [
              "<matplotlib.axes._subplots.AxesSubplot at 0x7f5825c64090>"
            ]
          },
          "metadata": {},
          "execution_count": 28
        },
        {
          "output_type": "display_data",
          "data": {
            "text/plain": [
              "<Figure size 432x288 with 2 Axes>"
            ],
            "image/png": "[encoded data removed]"
          },
          "metadata": {
            "needs_background": "light"
          }
        }
      ]
    },
    {
      "cell_type": "markdown",
      "metadata": {
        "id": "q_Db92ZSxRyh"
      },
      "source": [
        "# Next Steps\n",
        "\n",
        "NLP goes MUCH deeper than this.  Even with a bag of words approach there are many more steps we could take:\n",
        "\n",
        "1. Make a frequency count of words and remove words that appear only once or that are very very common.\n",
        "2. Use TF-IDF vectorizing.  This is a slightly more complext vectorizing strategy.  Each column is still a word in the vocabulary, but the value is a float that represents how specific that word is to that document compared to other documents in the corpus.  Read more [here](https://towardsdatascience.com/text-vectorization-term-frequency-inverse-document-frequency-tfidf-5a3f9604da6d).\n",
        "3. Try stemming, removing or more or fewer stop words, exploring the data for more irregularities.\n",
        "4. Add more feature engineering.  We could add extra columns for the length of each document (since that is lost in the vectorizing process), the length of the title, the average length of the words in each document, the date from the date column, or some other meta-data about the text.\n",
        "5. Apply other vectorization strategies that preserve sequence such as word embeddings or integer vectorization\n",
        "\n",
        "There is also a large field of work using deep learning models, recurrent neural networks, to classify text.  [You can read more about this on my blog](https://towardsdatascience.com/pretrained-word-embeddings-using-spacy-and-keras-textvectorization-ef75ecd56360)\n",
        "\n",
        "## Sequence to Sequence\n",
        "\n",
        "Another large field of NLP is transformers and sequence to sequence NLP.  In this approach a model returns a text sequence rather than a single label.  This is useful in translation machines, chatbots, or voice controlled AI like Siri or Alexa."
      ]
    },
    {
      "cell_type": "markdown",
      "metadata": {
        "id": "N4QNZALzzbOH"
      },
      "source": [
        "# Final Note: Spoiler\n",
        "\n",
        "With the exception of lemmatizing, the sklearn CountVectorizer can do all of these steps automatically, including removing punctuation, lower casing, and removing stop words.  You can also pass it a custom function if you want to do other prepreprocessing, such as lemmatizing.  Check out the documentation for the class for more information."
      ]
    },
    {
      "cell_type": "code",
      "metadata": {
        "id": "hMoX1o6nvpi7"
      },
      "source": [],
      "execution_count": null,
      "outputs": []
    }
  ]
}