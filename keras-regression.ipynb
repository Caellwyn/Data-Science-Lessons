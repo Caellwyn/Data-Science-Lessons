{
 "cells": [
  {
   "cell_type": "markdown",
   "metadata": {},
   "source": [
    "# TensorFlow and Keras for Regression\n",
    "\n",
    "## Introduction\n",
    "In the previous lessons you learned about the structure of neural networks, specifically densely connected feed-forward neural networks, also known as multi-layer perceptrons (MLPs).  You learned about how information is propagated forward through the network from input to predictions and how a model calculates it's own errors using a loss function, determines the gradient of the loss, and uses that to propagate changes in the network weights backward from end to beginning.  Each cycle of forward and backward propagation is called an epoch. Models gradually reduce their loss over many epochs to make better predictions.\n",
    "\n",
    "In this lesson, you will learn about TensorFlow and Keras, two related tools to automate this process and make it more code and computationally efficient.  These tools will make deep learning model development much simpler and faster so you can get powerful models fit on your data quickly and with fewer opportunities for error.  \n",
    "\n",
    "### Lesson Outline:\n",
    "1. Introduction to TensorFlow and Keras\n",
    "2. Regression vs. classification in deep learning\n",
    "3. Preparing data for deep learning\n",
    "4. Creating your model architecture, including layers, nodes, activation functions, and loss functions.\n",
    "5. Training your model and visualizing the training history\n",
    "6. Evaluating your Keras model.\n",
    "\n",
    "### TensorFlow\n",
    "\n",
    "TensorFlow is a robust and flexible framework specifically designed for deep learning. It empowers developers to construct and optimize large-scale, intricate models with astonishing efficiency.  The cornerstone of TensorFlow's architecture lies in tensors, single or multi-dimensional arrays capable of representing data of many shapes and sizes. These dynamic entities flow through the neural network, undergoing transformations at each layer, forming the lifeblood of the computational process. TensorFlow grants us the freedom to design complex, branched graph structures, paving the way for a vast array of network architectures.\n",
    "\n",
    "### Keras\n",
    "\n",
    "Keras offers a concise and intuitive API for TensorFlow, akin to Pandas' relationship with NumPy, that streamlines the process of building and training neural networks.\n",
    "\n",
    "Unlike Pandas, Keras is a unified API that can be run with several backend engines: TensorFlow, Theanos, or PyTorch.  The interface is the same, but Keras can create models in any of these frameworks.  In the following lessons, we will be using a TensorFlow backend for Keras, but just note that, with few adjustments, you could create and deploy models in the other two frameworks as well."
   ]
  },
  {
   "cell_type": "markdown",
   "metadata": {},
   "source": [
    "## Installing Keras\n",
    "\n",
    "In this demonstration we will be using Keras 3 with a TensorFlow backend.  In order to get Keras 3 to correctly install, we will need to install or upgrade to the latest version of TensorFlow before installing or upgrading Keras.  Otherwise, TensorFlow will overwrite Keras with an earlier version.\n",
    "\n",
    "At the time of writing, 2.15 is the latest version of TensorFlow, and you may get a warning when installing Keras 3.  Don't worry, and this warning should not cause any problems and will go away once TensorFlow 2.16 is released.\n",
    "\n",
    "See the documentation [here](https://keras.io/getting_started/)"
   ]
  },
  {
   "cell_type": "code",
   "execution_count": 20,
   "metadata": {},
   "outputs": [],
   "source": [
    "## Install/upgrade TensorFlow\n",
    "# !pip install --upgrade tensorflow\n",
    "## Install or upgrade Keras\n",
    "# !pip install --upgrade keras"
   ]
  },
  {
   "cell_type": "code",
   "execution_count": 21,
   "metadata": {},
   "outputs": [
    {
     "data": {
      "text/plain": [
       "'3.0.2'"
      ]
     },
     "execution_count": 21,
     "metadata": {},
     "output_type": "execute_result"
    }
   ],
   "source": [
    "## Check Keras version.  Should be > 3.0\n",
    "import keras\n",
    "keras.__version__"
   ]
  },
  {
   "cell_type": "markdown",
   "metadata": {},
   "source": [
    "If Keras is not showing the correct version, try installing it using your terminal into your virtual environment, the re-adding the kernel to Jupyter through ipykernel.  \n",
    "\n",
    "Try the following in your terminal:\n",
    "\n",
    "`conda activate ENVNAME`\n",
    "\n",
    "`pip install --upgrade tensorflow`\n",
    "\n",
    "`pip install --upgrade keras`\n",
    "\n",
    "`pip install ipykernel`\n",
    "\n",
    "`python -m ipykernel install --user --name ENVNAME --display-name \"Python (whatever you want to call it)\"`"
   ]
  },
  {
   "cell_type": "markdown",
   "metadata": {},
   "source": [
    "## Neural Networking for Regression"
   ]
  },
  {
   "cell_type": "markdown",
   "metadata": {},
   "source": [
    "### Regression Vs Classification in Neural Networks.\n",
    "\n",
    "In the last lesson we classified iris flowers into one of two different subspecies.  This was an example of classification.  We used a sigmoid activation function on our final layer to force our model to output a number between 0 and 1, representing the probability that a sample belonged to class 1, and the inverse probability of it belonging to class 0.  \n",
    "\n",
    "#### Activation Function: Linear (None)\n",
    "\n",
    "For this dataset we want our model to have the flexibility to output any real number.  This means we would not want to use a limiting activation function such as sigmoid.  Instead, we will use a linear activation, which is the same as the indentity function and equivalent to no activation function for the final layer.  We will, however, use non-linear activation functions on our hidden layer(s) to give our model the ability to find non-linear relationships between the features and target.\n",
    "\n",
    "#### Loss Function\n",
    "\n",
    "We need a loss function that measures how close the model's prediction is to the true target number.  It must also be lower when the model is closer.  Luckily, our regression metrics already do that!  Mean abosolute error, mean squared error, or root mean squared error would all get the job done, but in regression we are often interested in avoiding larger errors, preferring many small errors instead.  While MAE could be one option if average error is our main concern, MSE or RMSE would help train our model to especially avoid larger errors and prefer more smaller ones.  MSE and RMSE both tell much the same story, but RMSE has an extra calculation, the square root.  MSE would be the more efficient as it is less computationall expensive.  \n",
    "\n",
    "### Boston Housing Dataset:\n",
    "\n",
    "In this lesson we will fit and evaluate a keras model on the Boston Housing Dataset.  This is a commonly used demonstration dataset describing median prices in several Boston suburbs, and the goal is to use various data about each region to predict the median prices of homes sold there.  Prices are expressed in 1000s of US Dollars.\n",
    "\n",
    "The data was collected originally by the U.S. Census Service and used in a paper by Harssion and Rubinfield in 1978.  If you would like to know more, you can find details [here](https://www.cs.toronto.edu/~delve/data/boston/bostonDetail.html)\n"
   ]
  },
  {
   "cell_type": "markdown",
   "metadata": {},
   "source": [
    "## Imports\n",
    "\n",
    "We will be importing NumPy as always, because it is so useful!  We are also going to import some classes and a function from Keras.\n",
    "\n",
    "* **keras.models.Sequential**: This is one of the two base model types in Keras.  We will be using the Sequential model API for the next few lessons because it is simple to create feed forward model where data flows linearly from beginning to end.  The Functional model API is good for more advanced models where data may loop, skips layers, be duplicated or have multiple inputs or outputs at multiple layers, such as transformer models.\n",
    "\n",
    "* **keras.layers.Dense**: These will be the dense layer.  These will form the basis of the models for the next few lessons.  As you saw in the previous lessons, these layers can have an arbitrary number of nodes, and all nodes in one layer connect to all nodes in the next layer.  They are densely connected.\n",
    "\n",
    "* **keras.layers.Input**: These will be the input layers to our model.  They have no parameters and simply pass batches of features to the first hidden layer.\n",
    "\n",
    "* **keras.datasets.boston_housing.load_data**: Like Scikit-Learn, Keras comes with some standard datasets for demonstration such as The Boston Housing dataset."
   ]
  },
  {
   "cell_type": "code",
   "execution_count": 22,
   "metadata": {},
   "outputs": [],
   "source": [
    "## Standard Imports\n",
    "import numpy as np\n",
    "import pandas as pd\n",
    "import matplotlib.pyplot as plt\n",
    "\n",
    "## Scikit-Learn imports\n",
    "from sklearn.model_selection import train_test_split\n",
    "from sklearn.metrics import mean_absolute_error, mean_squared_error\n",
    "from sklearn.preprocessing import MinMaxScaler\n",
    "\n",
    "## Keras Imports\n",
    "from keras.models import Sequential\n",
    "from keras.layers import Dense, Input\n",
    "from keras.datasets.boston_housing import load_data"
   ]
  },
  {
   "cell_type": "markdown",
   "metadata": {},
   "source": [
    "## Data Exploration"
   ]
  },
  {
   "cell_type": "code",
   "execution_count": 23,
   "metadata": {},
   "outputs": [
    {
     "data": {
      "text/plain": [
       "(404, 13)"
      ]
     },
     "execution_count": 23,
     "metadata": {},
     "output_type": "execute_result"
    }
   ],
   "source": [
    "(X_train, y_train), (X_test, y_test) = load_data()\n",
    "X_train.shape"
   ]
  },
  {
   "cell_type": "markdown",
   "metadata": {},
   "source": [
    "The data comes to us already split and has 404 samples and 13 columns.  \n",
    "\n",
    "* **404 Samples**: This generally too small for deep learning, and we could probably do just as well with a traditional model.  Deep learning really shines with large datasets where the model can find subtler patterns than more traditional models.  But, we will use this one for demonstration\n",
    "\n",
    "* **13 Features**: This is important to note because it will determine the size of our input layer and thus the number of weights for each node in our first hidden layer."
   ]
  },
  {
   "cell_type": "code",
   "execution_count": 24,
   "metadata": {},
   "outputs": [
    {
     "data": {
      "text/plain": [
       "array([[1.23247e+00, 0.00000e+00, 8.14000e+00, 0.00000e+00, 5.38000e-01,\n",
       "        6.14200e+00, 9.17000e+01, 3.97690e+00, 4.00000e+00, 3.07000e+02,\n",
       "        2.10000e+01, 3.96900e+02, 1.87200e+01],\n",
       "       [2.17700e-02, 8.25000e+01, 2.03000e+00, 0.00000e+00, 4.15000e-01,\n",
       "        7.61000e+00, 1.57000e+01, 6.27000e+00, 2.00000e+00, 3.48000e+02,\n",
       "        1.47000e+01, 3.95380e+02, 3.11000e+00],\n",
       "       [4.89822e+00, 0.00000e+00, 1.81000e+01, 0.00000e+00, 6.31000e-01,\n",
       "        4.97000e+00, 1.00000e+02, 1.33250e+00, 2.40000e+01, 6.66000e+02,\n",
       "        2.02000e+01, 3.75520e+02, 3.26000e+00],\n",
       "       [3.96100e-02, 0.00000e+00, 5.19000e+00, 0.00000e+00, 5.15000e-01,\n",
       "        6.03700e+00, 3.45000e+01, 5.98530e+00, 5.00000e+00, 2.24000e+02,\n",
       "        2.02000e+01, 3.96900e+02, 8.01000e+00],\n",
       "       [3.69311e+00, 0.00000e+00, 1.81000e+01, 0.00000e+00, 7.13000e-01,\n",
       "        6.37600e+00, 8.84000e+01, 2.56710e+00, 2.40000e+01, 6.66000e+02,\n",
       "        2.02000e+01, 3.91430e+02, 1.46500e+01]])"
      ]
     },
     "execution_count": 24,
     "metadata": {},
     "output_type": "execute_result"
    }
   ],
   "source": [
    "## Data Head\n",
    "X_train[:5]"
   ]
  },
  {
   "cell_type": "markdown",
   "metadata": {},
   "source": [
    "Like Scikit-Learn models, Keras and TensorFlow require all features to be numeric.  In addition, while Scikit-Learn models can handle string labels in classification tasks, Keras and TensorFlow require all targets and labels to be numeric as well."
   ]
  },
  {
   "cell_type": "code",
   "execution_count": 25,
   "metadata": {},
   "outputs": [
    {
     "name": "stdout",
     "output_type": "stream",
     "text": [
      "0\n",
      "0\n",
      "0\n",
      "0\n"
     ]
    }
   ],
   "source": [
    "## Null Values\n",
    "for data in [X_train, y_train, X_test, y_test]:\n",
    "    print(np.isnan(data).sum())"
   ]
  },
  {
   "cell_type": "markdown",
   "metadata": {},
   "source": [
    "Data has no null values.  This is very important to check.  Unlike Scikit-Learn, TensorFlow models will not throw errors if you have NaNs in your data. However, the model will not converge.  This can be a difficult problem to debug because it is essentially a silent error.  Make sure you check and correct for any missing values in your features or target before modeling!"
   ]
  },
  {
   "cell_type": "markdown",
   "metadata": {},
   "source": [
    "## Preprocessing\n",
    "\n",
    "Keras and TensorFlow models require all data to be numeric and free from missing values.  If either of these assumptions were violated, now would be the time to apply appropriate processing to fix them.  Scikit-Learn preprocessors work fine here.\n",
    "\n",
    "### Scaling\n",
    "While not necessarily required, research has suggested that scaling input variables improves the rate at which deep learning models converge on optimal solutions by preventing early layer weights from growing too large (exploding gradients) or too small (vanishing gradients)."
   ]
  },
  {
   "cell_type": "code",
   "execution_count": 26,
   "metadata": {},
   "outputs": [],
   "source": [
    "## Scale data\n",
    "scaler = MinMaxScaler()\n",
    "X_train_sc = scaler.fit_transform(X_train)\n",
    "X_test_sc = scaler.transform(X_test)"
   ]
  },
  {
   "cell_type": "markdown",
   "metadata": {},
   "source": [
    "## Create the Model\n",
    "Keras is an **object-oriented** library.  This means nearly everything will be classes: models, layers, and even metrics.  We will be instantiating and combining many objects here.\n",
    "\n",
    "The number of nodes and layers in your model are hyperparameters for you to tune as you develop them.\n",
    "\n",
    "To create and get our model ready for training, we will take the following steps:\n",
    "\n",
    "1. **Determine input size**:  We will use `X_train_sc.shape[1]` to retrieve an integer value of the number of input features.  We will add an Input layer with this shape as the first layer.  It should be in the form of a tuple with all shapes of the input except the batch size.  In this example we have one-dimensional arrays, but in some applications, such as computer vision, you may have other shape.  Since we have on dimension of features, our tuple will be `(X_train_sc[1],)`.  Notice the comma after the input feature size.  This leaves room for Keras to add the batch size as a second dimension during the model fit call.\n",
    "\n",
    "When determining the shape of your input layer, be sure you are using your processed data.  If you have changed the number of features, or example with one-hot encoding, Keras will need to know the final number of features AFTER processing.\n",
    "\n",
    "2. **Instantiate a base model**:  We will use `Sequential()` for this.\n",
    "3. **Add layers**:  There are two ways we can do this.  We can pass `Sequential()` a list of layer objects, or we can use the `Sequential.add()` method to add layers.  In either case, the layers will be ordered, either in the order of the list we pass, or in the order in which we add them.  We will be an `Input()` layer and `Dense()` layers.  We will also need to specify the number of nodes in each layer as we instantiate them.  In this case we will create an input layer, one hidden layer with 10 nodes, and an output layer with 1 node, since we want our model to make predictions of 1 number per sample.\n",
    "* Input Layer: X_train_sc.shape[1] nodes\n",
    "* Hidden Dense Layer: 10 nodes\n",
    "* Output Dense laer: 1 node\n",
    "4. **Activation Functions**: These can be added as layers or specified as a keyword in other layer objects.  Applying them as separate layers allows a user to customize activation functions, or use functions that are not accessible through standard keywords in other layer objects.  We will use keywords in our `Dense()` layers for our activation functions with `activation=`.  In this case we will continue to use a sigmoid activation function for our hidden layer, like we did in the previous lesson, but we will not include an activation function for our output layer because we do not want to limit the range of values our model can predict.  Non-linearity in the model will be handled by the hidden layer activation function.\n",
    "5. **Compile the model**: Once the model architecture is constructed, the model must be compiled with a loss function and optionally a gradient descent optimizer and additional metrics to track during training.  We will be using the 'mse' loss function.  Again, this can either be passed as a class object, or as a keyword.  You can even create custom loss functions if you want.\n",
    "\n",
    "**Optimizers** Optimizers are variations on the gradient descent algorithm that can help models to more quickly converge on the global minimum of the loss landscape.  There are several to choose from and they will affect the rate at which a model converges on a solution.  In this demonstration we will use the default, **Stochastic Gradient Descent**.  It has many arguments we can pass to customize it, but by default it just applies a learning rate of .001."
   ]
  },
  {
   "cell_type": "code",
   "execution_count": 27,
   "metadata": {},
   "outputs": [],
   "source": [
    "## Determine size of input layer\n",
    "input_dim = (X_train_sc.shape[1],) #tuple of shape in input, not counting batch size.  In this case we are passing a 1 dimensional tensor of size X_train.shape[1]\n",
    "\n",
    "## Instantiate Sequential Model\n",
    "model = Sequential(name='first_model')\n",
    "\n",
    "## Add layers\n",
    "\n",
    "# Hidden layer\n",
    "model.add(Input(shape=input_dim, name='input_layer'))\n",
    "model.add(Dense(units=10, # 10 nodes\n",
    "                activation='sigmoid', # Sigmoid activation function\n",
    "                name='first_hidden_layer'\n",
    "                )\n",
    "         )\n",
    "\n",
    "# Output layer\n",
    "model.add(Dense(units=1, # Keras will automatically determine the number of weights (2) based on the shape of the previous layer, \n",
    "                name='output_layer'\n",
    "                ) # and we don't need an activation function\n",
    "          ) \n",
    "\n",
    "## Compile the model.\n",
    "model.compile(loss='mse', # mean squared error loss function, default 'SGD' or 'vanilla' gradient descent\n",
    "              metrics=['mae']) # also track the mean absolute error at each epoch of training."
   ]
  },
  {
   "cell_type": "code",
   "execution_count": 28,
   "metadata": {},
   "outputs": [
    {
     "data": {
      "text/html": [
       "<pre style=\"white-space:pre;overflow-x:auto;line-height:normal;font-family:Menlo,'DejaVu Sans Mono',consolas,'Courier New',monospace\"><span style=\"font-weight: bold\">Model: \"first_model\"</span>\n",
       "</pre>\n"
      ],
      "text/plain": [
       "\u001b[1mModel: \"first_model\"\u001b[0m\n"
      ]
     },
     "metadata": {},
     "output_type": "display_data"
    },
    {
     "data": {
      "text/html": [
       "<pre style=\"white-space:pre;overflow-x:auto;line-height:normal;font-family:Menlo,'DejaVu Sans Mono',consolas,'Courier New',monospace\">┏━━━━━━━━━━━━━━━━━━━━━━━━━━━━━━━━━┳━━━━━━━━━━━━━━━━━━━━━━━━━━━┳━━━━━━━━━━━━┓\n",
       "┃<span style=\"font-weight: bold\"> Layer (type)                    </span>┃<span style=\"font-weight: bold\"> Output Shape              </span>┃<span style=\"font-weight: bold\">    Param # </span>┃\n",
       "┡━━━━━━━━━━━━━━━━━━━━━━━━━━━━━━━━━╇━━━━━━━━━━━━━━━━━━━━━━━━━━━╇━━━━━━━━━━━━┩\n",
       "│ first_hidden_layer (<span style=\"color: #0087ff; text-decoration-color: #0087ff\">Dense</span>)      │ (<span style=\"color: #00d7ff; text-decoration-color: #00d7ff\">None</span>, <span style=\"color: #00af00; text-decoration-color: #00af00\">10</span>)                │        <span style=\"color: #00af00; text-decoration-color: #00af00\">140</span> │\n",
       "├─────────────────────────────────┼───────────────────────────┼────────────┤\n",
       "│ output_layer (<span style=\"color: #0087ff; text-decoration-color: #0087ff\">Dense</span>)            │ (<span style=\"color: #00d7ff; text-decoration-color: #00d7ff\">None</span>, <span style=\"color: #00af00; text-decoration-color: #00af00\">1</span>)                 │         <span style=\"color: #00af00; text-decoration-color: #00af00\">11</span> │\n",
       "└─────────────────────────────────┴───────────────────────────┴────────────┘\n",
       "</pre>\n"
      ],
      "text/plain": [
       "┏━━━━━━━━━━━━━━━━━━━━━━━━━━━━━━━━━┳━━━━━━━━━━━━━━━━━━━━━━━━━━━┳━━━━━━━━━━━━┓\n",
       "┃\u001b[1m \u001b[0m\u001b[1mLayer (type)                   \u001b[0m\u001b[1m \u001b[0m┃\u001b[1m \u001b[0m\u001b[1mOutput Shape             \u001b[0m\u001b[1m \u001b[0m┃\u001b[1m \u001b[0m\u001b[1m   Param #\u001b[0m\u001b[1m \u001b[0m┃\n",
       "┡━━━━━━━━━━━━━━━━━━━━━━━━━━━━━━━━━╇━━━━━━━━━━━━━━━━━━━━━━━━━━━╇━━━━━━━━━━━━┩\n",
       "│ first_hidden_layer (\u001b[38;5;33mDense\u001b[0m)      │ (\u001b[38;5;45mNone\u001b[0m, \u001b[38;5;34m10\u001b[0m)                │        \u001b[38;5;34m140\u001b[0m │\n",
       "├─────────────────────────────────┼───────────────────────────┼────────────┤\n",
       "│ output_layer (\u001b[38;5;33mDense\u001b[0m)            │ (\u001b[38;5;45mNone\u001b[0m, \u001b[38;5;34m1\u001b[0m)                 │         \u001b[38;5;34m11\u001b[0m │\n",
       "└─────────────────────────────────┴───────────────────────────┴────────────┘\n"
      ]
     },
     "metadata": {},
     "output_type": "display_data"
    },
    {
     "data": {
      "text/html": [
       "<pre style=\"white-space:pre;overflow-x:auto;line-height:normal;font-family:Menlo,'DejaVu Sans Mono',consolas,'Courier New',monospace\"><span style=\"font-weight: bold\"> Total params: </span><span style=\"color: #00af00; text-decoration-color: #00af00\">151</span> (604.00 B)\n",
       "</pre>\n"
      ],
      "text/plain": [
       "\u001b[1m Total params: \u001b[0m\u001b[38;5;34m151\u001b[0m (604.00 B)\n"
      ]
     },
     "metadata": {},
     "output_type": "display_data"
    },
    {
     "data": {
      "text/html": [
       "<pre style=\"white-space:pre;overflow-x:auto;line-height:normal;font-family:Menlo,'DejaVu Sans Mono',consolas,'Courier New',monospace\"><span style=\"font-weight: bold\"> Trainable params: </span><span style=\"color: #00af00; text-decoration-color: #00af00\">151</span> (604.00 B)\n",
       "</pre>\n"
      ],
      "text/plain": [
       "\u001b[1m Trainable params: \u001b[0m\u001b[38;5;34m151\u001b[0m (604.00 B)\n"
      ]
     },
     "metadata": {},
     "output_type": "display_data"
    },
    {
     "data": {
      "text/html": [
       "<pre style=\"white-space:pre;overflow-x:auto;line-height:normal;font-family:Menlo,'DejaVu Sans Mono',consolas,'Courier New',monospace\"><span style=\"font-weight: bold\"> Non-trainable params: </span><span style=\"color: #00af00; text-decoration-color: #00af00\">0</span> (0.00 B)\n",
       "</pre>\n"
      ],
      "text/plain": [
       "\u001b[1m Non-trainable params: \u001b[0m\u001b[38;5;34m0\u001b[0m (0.00 B)\n"
      ]
     },
     "metadata": {},
     "output_type": "display_data"
    }
   ],
   "source": [
    "## Examine the model architecture.\n",
    "model.summary()"
   ]
  },
  {
   "cell_type": "markdown",
   "metadata": {},
   "source": [
    "We can see above that our model has one hidden layer with 140 parameters: (13 features * 10 nodes) + 10 biases.  Since there are 10 nodes, it outputs 10 values.  The output layer has one node with 2 weights + 1 bias and outputs 1 value.  The output of the output layer will the model prediction."
   ]
  },
  {
   "cell_type": "markdown",
   "metadata": {},
   "source": [
    "## Model Training\n",
    "\n",
    "In this step we will fit the model on the training data.  We will also need to specify a number of training epochs as the model does not have a way of knowing when it is \"done\" training.  In future lessons we will talk about some ways we can automate the choice of training epochs, for but now we will choose a number.\n",
    "\n",
    "`model.fit()` returns a dictionary of the model metrics at each training step.  It will store the loss, MSE, by default, and the metric we specified when we compiled it, MAE, as well.  We will save this information to visualize after training."
   ]
  },
  {
   "cell_type": "code",
   "execution_count": 29,
   "metadata": {},
   "outputs": [],
   "source": [
    "## Fit Model\n",
    "history = model.fit(X_train_sc, y_train,\n",
    "                    epochs=200,\n",
    "                    verbose=False)"
   ]
  },
  {
   "cell_type": "code",
   "execution_count": 30,
   "metadata": {},
   "outputs": [
    {
     "data": {
      "image/png": "[encoded data removed]",
      "text/plain": [
       "<Figure size 500x600 with 2 Axes>"
      ]
     },
     "metadata": {},
     "output_type": "display_data"
    }
   ],
   "source": [
    "## Plot the training history\n",
    "\n",
    "def plot_history(history):\n",
    "    metrics = history.history.keys()\n",
    "\n",
    "    fig, axes = plt.subplots(nrows=len(metrics), figsize=(5,6))\n",
    "\n",
    "    for i, key in enumerate(metrics):\n",
    "        axes[i].plot(history.history[key])\n",
    "        axes[i].set_xlabel('Epoch')\n",
    "        axes[i].set_ylabel(key)\n",
    "        axes[i].set_title(f'Training {key}')\n",
    "\n",
    "    plt.tight_layout()\n",
    "    return fig, axes\n",
    "\n",
    "plot_history(history);"
   ]
  },
  {
   "cell_type": "markdown",
   "metadata": {},
   "source": [
    "We can see above how the loss (MSE), and our additional metric (MAE) change at each epoch.  We see a consistent slope downward until the model levels off at a certain point in the training.  The model has found either a local or global minimum for the loss landscape defined by the loss function and the model architecture.  \n",
    "\n",
    "**Note** By default Keras models start with randomized weights.  This means that your model's training history may not be exactly the same as this one.  It also means that your model metrics may be somewhat different as well.\n",
    "\n",
    "We may be able to find a loss minimum with a larger model, or maybe not.  Remember, all real world data contains noise and there will be a limit to how well our model can make predictions, no matter how complex we make it."
   ]
  },
  {
   "cell_type": "markdown",
   "metadata": {},
   "source": [
    "## Final Model Evaluation"
   ]
  },
  {
   "cell_type": "code",
   "execution_count": 31,
   "metadata": {},
   "outputs": [
    {
     "name": "stdout",
     "output_type": "stream",
     "text": [
      "\u001b[1m4/4\u001b[0m \u001b[32m━━━━━━━━━━━━━━━━━━━━\u001b[0m\u001b[37m\u001b[0m \u001b[1m0s\u001b[0m 8ms/step \n",
      "\u001b[1m13/13\u001b[0m \u001b[32m━━━━━━━━━━━━━━━━━━━━\u001b[0m\u001b[37m\u001b[0m \u001b[1m0s\u001b[0m 1ms/step \n"
     ]
    },
    {
     "data": {
      "text/html": [
       "<div>\n",
       "<style scoped>\n",
       "    .dataframe tbody tr th:only-of-type {\n",
       "        vertical-align: middle;\n",
       "    }\n",
       "\n",
       "    .dataframe tbody tr th {\n",
       "        vertical-align: top;\n",
       "    }\n",
       "\n",
       "    .dataframe thead th {\n",
       "        text-align: right;\n",
       "    }\n",
       "</style>\n",
       "<table border=\"1\" class=\"dataframe\">\n",
       "  <thead>\n",
       "    <tr style=\"text-align: right;\">\n",
       "      <th></th>\n",
       "      <th>MSE</th>\n",
       "      <th>MAE</th>\n",
       "      <th>RMSE</th>\n",
       "    </tr>\n",
       "  </thead>\n",
       "  <tbody>\n",
       "    <tr>\n",
       "      <th>Model Test</th>\n",
       "      <td>83.778633</td>\n",
       "      <td>6.531753</td>\n",
       "      <td>9.153067</td>\n",
       "    </tr>\n",
       "    <tr>\n",
       "      <th>Model Train</th>\n",
       "      <td>84.632749</td>\n",
       "      <td>6.641854</td>\n",
       "      <td>9.199606</td>\n",
       "    </tr>\n",
       "  </tbody>\n",
       "</table>\n",
       "</div>"
      ],
      "text/plain": [
       "                   MSE       MAE      RMSE\n",
       "Model Test   83.778633  6.531753  9.153067\n",
       "Model Train  84.632749  6.641854  9.199606"
      ]
     },
     "execution_count": 31,
     "metadata": {},
     "output_type": "execute_result"
    }
   ],
   "source": [
    "def eval_regression(true, pred, name='model'):\n",
    "    df = pd.DataFrame(columns=['MSE', 'MAE', 'RMSE'], index=[name])\n",
    "    df['MAE'] = mean_absolute_error(true, pred)\n",
    "    df['MSE'] = mean_squared_error(true, pred)\n",
    "    df['RMSE'] = mean_squared_error(true, pred, squared=False)\n",
    "    return df\n",
    "\n",
    "test_scores = eval_regression(y_test, model.predict(X_test_sc), name='Model Test')\n",
    "train_scores = eval_regression(y_train, model.predict(X_train_sc), name='Model Train')\n",
    "\n",
    "scores = pd.concat([test_scores, train_scores])\n",
    "scores"
   ]
  },
  {
   "cell_type": "markdown",
   "metadata": {},
   "source": [
    "Deep learning models can have a tendancy to overfit, especially when they become very large.  However, in this case our model has low variance.  This may indicate we could try more complex models with more layers, more nodes, or both.  We will talk more about tuning strategies in a later lesson."
   ]
  },
  {
   "cell_type": "markdown",
   "metadata": {},
   "source": [
    "## Conclusion\n",
    "\n",
    "In this lesson you learned about how to make a simple regression model in Keras.  You installed TensorFlow and Keras 3, instantiated a `Sequential()` Keras model, and added appropriate `Input()` and `Dense()` layers, including an output layer with one node and no activation function.  Then you compiled the model with an appropriate loss function, MSE, and some additional metrics.  Finally, you fit your model on the training data, visualized the training history, and evaluated it with regression metrics.\n",
    "\n",
    "# Challenges:\n",
    "\n",
    "1. Try changing the number of nodes and layers of this model.  Can you create a model with a lower loss?  Remember to check your variance!\n",
    "2. Try increasing the model complexity and/or number of training metrics to see if you can create a model that overfits.\n",
    "3. Explore the [Keras Documentation](https://keras.io/api/) and see what other optimizers and activation functions are available. Can you further improve your model by tuning these? **Remember not to add any activation function to your final layer or change the loss function!**"
   ]
  },
  {
   "cell_type": "markdown",
   "metadata": {},
   "source": []
  }
 ],
 "metadata": {
  "kernelspec": {
   "display_name": "lesson-dev",
   "language": "python",
   "name": "lesson-dev"
  },
  "language_info": {
   "codemirror_mode": {
    "name": "ipython",
    "version": 3
   },
   "file_extension": ".py",
   "mimetype": "text/x-python",
   "name": "python",
   "nbconvert_exporter": "python",
   "pygments_lexer": "ipython3",
   "version": "3.10.10"
  }
 },
 "nbformat": 4,
 "nbformat_minor": 2
}
