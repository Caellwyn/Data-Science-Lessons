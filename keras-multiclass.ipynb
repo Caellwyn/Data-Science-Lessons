{
 "cells": [
  {
   "cell_type": "markdown",
   "metadata": {},
   "source": [
    "# Multiclass Classification with in Keras"
   ]
  },
  {
   "cell_type": "markdown",
   "metadata": {},
   "source": [
    "## Review\n",
    "## Review\n",
    "\n",
    "### Multi-Layered Perceptrons\n",
    "In the previous lessons, you learned about densely connected feed-forward neural networks. These are also commonly called MLPs or Multi-Layered Perceptrons.\n",
    "\n",
    "### Model Structure and Forward Propagation\n",
    "\n",
    "#### Nodes and Layers\n",
    "You learned that these models make predictions by ingesting data into their input layers and passing the data through some number of hidden layers. Finally, an output layer produces a prediction.  You learned that the input layer has one node for each feature in the training data, each hidden layers can have any number of nodes, and that the number of nodes in the output layer depends on the type of problem your model is solving.\n",
    "\n",
    "#### Parameters\n",
    "In an MLP, the outputs of all nodes in one layer are passed to all nodes in the next layer.  Each node has a number of weights equal to its number of inputs plus one bias term.  These are collectively called parameters and form the 'intelligence' of the model.  Parameters change as the model learns to make better predictions.\n",
    "\n",
    "#### Activation Functions\n",
    "You also learned that hidden layers should each have a non-linear activation function to allow the model to find non-linear patterns in the data.  While activation functions in the hidden layers can be chosen by the model creator, the activation function in the output layer is dependent on the problem being solved.  Input layers should not have activation functions.\n",
    "\n",
    "#### Cost Functions\n",
    "You also learned about the cost functions which models use to determine the success of their predictions.  These functions help them determine how to change the parameters of each node in each learning epoch.  This cost function, like the output layer, will be specific to the problem being solved.\n",
    "\n",
    "### Backward Propagation and Gradient Descent.\n",
    "Finally, you learned about gradient descent, which tells a model how and how much to change each parameter.  The process of backward propagation applies gradient descent to each layer of the model, starting at the output and moving backward to the input.\n",
    "\n",
    "### Keras\n",
    "In the previous lesson you learned how to use the Keras API with a Tensorflow backend to easy construct and train neural networks.  You used the `Sequential` model type and `Input` and `Dense` layers to construct, compile, and train a model."
   ]
  },
  {
   "cell_type": "markdown",
   "metadata": {},
   "source": [
    "## Multiclass Classification\n",
    "\n",
    "Binary classification models attempt to divide samples into two classes.  Multiclass classification models divide data into three or more classes.  Sometimes models are trained to identify and classify hundreds of different classes of samples, complicating predictions as well as evaluation.\n",
    "\n",
    "## Special Considerations for Deep Learning\n",
    "\n",
    "With binary classification your mode outputted a single float value for each sample.  With multi-class classification our model will output one float for each clas, for each sample, representing the probability of the samples belonging to a particular class\n",
    "\n",
    "### One-hot Encode the Targets\n",
    "\n",
    "In this demonstration we will one-hot encode the targets for the model.  Each class will have it's own column in the y variable.\n",
    "\n",
    "### Final Layer Nodes\n",
    "\n",
    "Since we we want our model to output a probability for each class, it must have a node for each class in the output layer.\n",
    "\n",
    "### Final Activation Function: Softmax\n",
    "When you created a binary classification model you used a **sigmoid** activation function in the final layer.  This caused the model output to be the probability that a sample was a member of the positive class (or class 1).  You then used that probability to decide which class to assign the sample to.  If you used rounding, then any sample with an equal or greater than 50% chance of belonging to class 1 was assigned to class one, and any with less than 50% chance was assigned to class 0.\n",
    "\n",
    "In multiclass classification we have to take a different approach.  Instead we will use the **softmax** activation function, which outputs a probability for each class.  In this case we generally assign a sample to the class with the highest probability.\n",
    "\n",
    "#### <center> Softmax Function</center>\n",
    "\n",
    "$$\n",
    "\\text{Softmax}(x_i) = \\frac{\\exp(x_i)}{\\sum_{j=1}^{N} \\exp(x_j)}\n",
    "$$\n",
    "\n",
    "\n",
    "$$\n",
    "\\begin{aligned}\n",
    "&\\bold{x_i}: \\text{The $i$-th element of the input vector.} \\\\\n",
    "&\\bold{N}: \\text{The number of elements in the input vector (total classes).} \\\\\n",
    "&\\bold{exp(x_i)}: \\text{The exponential function applied to $x_i$.} \\\\\n",
    "&\\bold{\\sum_{j=1}^{N} \\exp(x_j)}: \\text{The sum of exponential values for all elements.} \\\\\n",
    "&\\bold{\\text{Softmax}(x_i)}: \\text{The final probability for the $i$-th class.}\n",
    "\\end{aligned}\n",
    "$$\n",
    "\n",
    "### Loss Function\n",
    "\n",
    "With binary classification you determined the model loss using **binary crossentropy**.  However, with more than two classes, we will instead use **categorical crossentropy**.  If were were not one-hot encoding our target we would use **sparse categorical crossentropy**\n",
    "\n",
    "### Predictions\n",
    "\n",
    "Finally, in order to use Scikit-Learn evaluation functions, such as ``classification_report()`` and ``ConfusionMatrixDisplay()`` we need to collapse our predictions back to a single class for each sample.  We will do this with ``np.argmax(axis=1)``.  This function will return the index of the largest argument in the specified axis, effectively telling us which class the model predicts the sample is most likely a member of."
   ]
  },
  {
   "cell_type": "markdown",
   "metadata": {},
   "source": [
    "# The Data\n",
    "\n",
    "For this demonstration we will be using 64 pixen (8 by 8) images of handwritten numerals between 0 and 9.  Each column represents a pixel value and each row represents a sample.  Our model will examine the pixel values and classify each handwritten numeral into the integer it represents.\n",
    "\n",
    "The data comes from the UCI ML repository and we will download it directly through their API below.  "
   ]
  },
  {
   "cell_type": "code",
   "execution_count": 68,
   "metadata": {},
   "outputs": [],
   "source": [
    "#Import Pandas, etc.\n",
    "import pandas as pd\n",
    "pd.set_option('display.max_columns', 500)\n",
    "pd.set_option('display.max_rows', 1000)\n",
    "\n",
    "import numpy as np\n",
    "import matplotlib.pyplot as plt\n",
    "\n",
    "#Keras\n",
    "from keras import layers\n",
    "from keras import models\n",
    "from keras import callbacks\n",
    "\n",
    "#Sklearn\n",
    "from sklearn.preprocessing import LabelBinarizer, MinMaxScaler\n",
    "from sklearn.model_selection import train_test_split\n",
    "from sklearn.metrics import ConfusionMatrixDisplay, classification_report\n",
    "from sklearn import set_config\n",
    "set_config(transform_output='pandas')\n"
   ]
  },
  {
   "cell_type": "markdown",
   "metadata": {},
   "source": [
    "**If necessary, uncomment the cell below to install the UCI repository Python package.**"
   ]
  },
  {
   "cell_type": "code",
   "execution_count": 69,
   "metadata": {},
   "outputs": [],
   "source": [
    "# Install the UCI ML Repository package if necessary\n",
    "# !pip install ucimlrepo"
   ]
  },
  {
   "cell_type": "code",
   "execution_count": 70,
   "metadata": {},
   "outputs": [
    {
     "data": {
      "text/html": [
       "<div>\n",
       "<style scoped>\n",
       "    .dataframe tbody tr th:only-of-type {\n",
       "        vertical-align: middle;\n",
       "    }\n",
       "\n",
       "    .dataframe tbody tr th {\n",
       "        vertical-align: top;\n",
       "    }\n",
       "\n",
       "    .dataframe thead th {\n",
       "        text-align: right;\n",
       "    }\n",
       "</style>\n",
       "<table border=\"1\" class=\"dataframe\">\n",
       "  <thead>\n",
       "    <tr style=\"text-align: right;\">\n",
       "      <th></th>\n",
       "      <th>Attribute1</th>\n",
       "      <th>Attribute2</th>\n",
       "      <th>Attribute3</th>\n",
       "      <th>Attribute4</th>\n",
       "      <th>Attribute5</th>\n",
       "      <th>Attribute6</th>\n",
       "      <th>Attribute7</th>\n",
       "      <th>Attribute8</th>\n",
       "      <th>Attribute9</th>\n",
       "      <th>Attribute10</th>\n",
       "      <th>Attribute11</th>\n",
       "      <th>Attribute12</th>\n",
       "      <th>Attribute13</th>\n",
       "      <th>Attribute14</th>\n",
       "      <th>Attribute15</th>\n",
       "      <th>Attribute16</th>\n",
       "      <th>Attribute17</th>\n",
       "      <th>Attribute18</th>\n",
       "      <th>Attribute19</th>\n",
       "      <th>Attribute20</th>\n",
       "      <th>Attribute21</th>\n",
       "      <th>Attribute22</th>\n",
       "      <th>Attribute23</th>\n",
       "      <th>Attribute24</th>\n",
       "      <th>Attribute25</th>\n",
       "      <th>Attribute26</th>\n",
       "      <th>Attribute27</th>\n",
       "      <th>Attribute28</th>\n",
       "      <th>Attribute29</th>\n",
       "      <th>Attribute30</th>\n",
       "      <th>Attribute31</th>\n",
       "      <th>Attribute32</th>\n",
       "      <th>Attribute33</th>\n",
       "      <th>Attribute34</th>\n",
       "      <th>Attribute35</th>\n",
       "      <th>Attribute36</th>\n",
       "      <th>Attribute37</th>\n",
       "      <th>Attribute38</th>\n",
       "      <th>Attribute39</th>\n",
       "      <th>Attribute40</th>\n",
       "      <th>Attribute41</th>\n",
       "      <th>Attribute42</th>\n",
       "      <th>Attribute43</th>\n",
       "      <th>Attribute44</th>\n",
       "      <th>Attribute45</th>\n",
       "      <th>Attribute46</th>\n",
       "      <th>Attribute47</th>\n",
       "      <th>Attribute48</th>\n",
       "      <th>Attribute49</th>\n",
       "      <th>Attribute50</th>\n",
       "      <th>Attribute51</th>\n",
       "      <th>Attribute52</th>\n",
       "      <th>Attribute53</th>\n",
       "      <th>Attribute54</th>\n",
       "      <th>Attribute55</th>\n",
       "      <th>Attribute56</th>\n",
       "      <th>Attribute57</th>\n",
       "      <th>Attribute58</th>\n",
       "      <th>Attribute59</th>\n",
       "      <th>Attribute60</th>\n",
       "      <th>Attribute61</th>\n",
       "      <th>Attribute62</th>\n",
       "      <th>Attribute63</th>\n",
       "      <th>Attribute64</th>\n",
       "    </tr>\n",
       "  </thead>\n",
       "  <tbody>\n",
       "    <tr>\n",
       "      <th>0</th>\n",
       "      <td>0</td>\n",
       "      <td>1</td>\n",
       "      <td>6</td>\n",
       "      <td>15</td>\n",
       "      <td>12</td>\n",
       "      <td>1</td>\n",
       "      <td>0</td>\n",
       "      <td>0</td>\n",
       "      <td>0</td>\n",
       "      <td>7</td>\n",
       "      <td>16</td>\n",
       "      <td>6</td>\n",
       "      <td>6</td>\n",
       "      <td>10</td>\n",
       "      <td>0</td>\n",
       "      <td>0</td>\n",
       "      <td>0</td>\n",
       "      <td>8</td>\n",
       "      <td>16</td>\n",
       "      <td>2</td>\n",
       "      <td>0</td>\n",
       "      <td>11</td>\n",
       "      <td>2</td>\n",
       "      <td>0</td>\n",
       "      <td>0</td>\n",
       "      <td>5</td>\n",
       "      <td>16</td>\n",
       "      <td>3</td>\n",
       "      <td>0</td>\n",
       "      <td>5</td>\n",
       "      <td>7</td>\n",
       "      <td>0</td>\n",
       "      <td>0</td>\n",
       "      <td>7</td>\n",
       "      <td>13</td>\n",
       "      <td>3</td>\n",
       "      <td>0</td>\n",
       "      <td>8</td>\n",
       "      <td>7</td>\n",
       "      <td>0</td>\n",
       "      <td>0</td>\n",
       "      <td>4</td>\n",
       "      <td>12</td>\n",
       "      <td>0</td>\n",
       "      <td>1</td>\n",
       "      <td>13</td>\n",
       "      <td>5</td>\n",
       "      <td>0</td>\n",
       "      <td>0</td>\n",
       "      <td>0</td>\n",
       "      <td>14</td>\n",
       "      <td>9</td>\n",
       "      <td>15</td>\n",
       "      <td>9</td>\n",
       "      <td>0</td>\n",
       "      <td>0</td>\n",
       "      <td>0</td>\n",
       "      <td>0</td>\n",
       "      <td>6</td>\n",
       "      <td>14</td>\n",
       "      <td>7</td>\n",
       "      <td>1</td>\n",
       "      <td>0</td>\n",
       "      <td>0</td>\n",
       "    </tr>\n",
       "    <tr>\n",
       "      <th>1</th>\n",
       "      <td>0</td>\n",
       "      <td>0</td>\n",
       "      <td>10</td>\n",
       "      <td>16</td>\n",
       "      <td>6</td>\n",
       "      <td>0</td>\n",
       "      <td>0</td>\n",
       "      <td>0</td>\n",
       "      <td>0</td>\n",
       "      <td>7</td>\n",
       "      <td>16</td>\n",
       "      <td>8</td>\n",
       "      <td>16</td>\n",
       "      <td>5</td>\n",
       "      <td>0</td>\n",
       "      <td>0</td>\n",
       "      <td>0</td>\n",
       "      <td>11</td>\n",
       "      <td>16</td>\n",
       "      <td>0</td>\n",
       "      <td>6</td>\n",
       "      <td>14</td>\n",
       "      <td>3</td>\n",
       "      <td>0</td>\n",
       "      <td>0</td>\n",
       "      <td>12</td>\n",
       "      <td>12</td>\n",
       "      <td>0</td>\n",
       "      <td>0</td>\n",
       "      <td>11</td>\n",
       "      <td>11</td>\n",
       "      <td>0</td>\n",
       "      <td>0</td>\n",
       "      <td>12</td>\n",
       "      <td>12</td>\n",
       "      <td>0</td>\n",
       "      <td>0</td>\n",
       "      <td>8</td>\n",
       "      <td>12</td>\n",
       "      <td>0</td>\n",
       "      <td>0</td>\n",
       "      <td>7</td>\n",
       "      <td>15</td>\n",
       "      <td>1</td>\n",
       "      <td>0</td>\n",
       "      <td>13</td>\n",
       "      <td>11</td>\n",
       "      <td>0</td>\n",
       "      <td>0</td>\n",
       "      <td>0</td>\n",
       "      <td>16</td>\n",
       "      <td>8</td>\n",
       "      <td>10</td>\n",
       "      <td>15</td>\n",
       "      <td>3</td>\n",
       "      <td>0</td>\n",
       "      <td>0</td>\n",
       "      <td>0</td>\n",
       "      <td>10</td>\n",
       "      <td>16</td>\n",
       "      <td>15</td>\n",
       "      <td>3</td>\n",
       "      <td>0</td>\n",
       "      <td>0</td>\n",
       "    </tr>\n",
       "    <tr>\n",
       "      <th>2</th>\n",
       "      <td>0</td>\n",
       "      <td>0</td>\n",
       "      <td>8</td>\n",
       "      <td>15</td>\n",
       "      <td>16</td>\n",
       "      <td>13</td>\n",
       "      <td>0</td>\n",
       "      <td>0</td>\n",
       "      <td>0</td>\n",
       "      <td>1</td>\n",
       "      <td>11</td>\n",
       "      <td>9</td>\n",
       "      <td>11</td>\n",
       "      <td>16</td>\n",
       "      <td>1</td>\n",
       "      <td>0</td>\n",
       "      <td>0</td>\n",
       "      <td>0</td>\n",
       "      <td>0</td>\n",
       "      <td>0</td>\n",
       "      <td>7</td>\n",
       "      <td>14</td>\n",
       "      <td>0</td>\n",
       "      <td>0</td>\n",
       "      <td>0</td>\n",
       "      <td>0</td>\n",
       "      <td>3</td>\n",
       "      <td>4</td>\n",
       "      <td>14</td>\n",
       "      <td>12</td>\n",
       "      <td>2</td>\n",
       "      <td>0</td>\n",
       "      <td>0</td>\n",
       "      <td>1</td>\n",
       "      <td>16</td>\n",
       "      <td>16</td>\n",
       "      <td>16</td>\n",
       "      <td>16</td>\n",
       "      <td>10</td>\n",
       "      <td>0</td>\n",
       "      <td>0</td>\n",
       "      <td>2</td>\n",
       "      <td>12</td>\n",
       "      <td>16</td>\n",
       "      <td>10</td>\n",
       "      <td>0</td>\n",
       "      <td>0</td>\n",
       "      <td>0</td>\n",
       "      <td>0</td>\n",
       "      <td>0</td>\n",
       "      <td>2</td>\n",
       "      <td>16</td>\n",
       "      <td>4</td>\n",
       "      <td>0</td>\n",
       "      <td>0</td>\n",
       "      <td>0</td>\n",
       "      <td>0</td>\n",
       "      <td>0</td>\n",
       "      <td>9</td>\n",
       "      <td>14</td>\n",
       "      <td>0</td>\n",
       "      <td>0</td>\n",
       "      <td>0</td>\n",
       "      <td>0</td>\n",
       "    </tr>\n",
       "    <tr>\n",
       "      <th>3</th>\n",
       "      <td>0</td>\n",
       "      <td>0</td>\n",
       "      <td>0</td>\n",
       "      <td>3</td>\n",
       "      <td>11</td>\n",
       "      <td>16</td>\n",
       "      <td>0</td>\n",
       "      <td>0</td>\n",
       "      <td>0</td>\n",
       "      <td>0</td>\n",
       "      <td>5</td>\n",
       "      <td>16</td>\n",
       "      <td>11</td>\n",
       "      <td>13</td>\n",
       "      <td>7</td>\n",
       "      <td>0</td>\n",
       "      <td>0</td>\n",
       "      <td>3</td>\n",
       "      <td>15</td>\n",
       "      <td>8</td>\n",
       "      <td>1</td>\n",
       "      <td>15</td>\n",
       "      <td>6</td>\n",
       "      <td>0</td>\n",
       "      <td>0</td>\n",
       "      <td>11</td>\n",
       "      <td>16</td>\n",
       "      <td>16</td>\n",
       "      <td>16</td>\n",
       "      <td>16</td>\n",
       "      <td>10</td>\n",
       "      <td>0</td>\n",
       "      <td>0</td>\n",
       "      <td>1</td>\n",
       "      <td>4</td>\n",
       "      <td>4</td>\n",
       "      <td>13</td>\n",
       "      <td>10</td>\n",
       "      <td>2</td>\n",
       "      <td>0</td>\n",
       "      <td>0</td>\n",
       "      <td>0</td>\n",
       "      <td>0</td>\n",
       "      <td>0</td>\n",
       "      <td>15</td>\n",
       "      <td>4</td>\n",
       "      <td>0</td>\n",
       "      <td>0</td>\n",
       "      <td>0</td>\n",
       "      <td>0</td>\n",
       "      <td>0</td>\n",
       "      <td>3</td>\n",
       "      <td>16</td>\n",
       "      <td>0</td>\n",
       "      <td>0</td>\n",
       "      <td>0</td>\n",
       "      <td>0</td>\n",
       "      <td>0</td>\n",
       "      <td>0</td>\n",
       "      <td>1</td>\n",
       "      <td>15</td>\n",
       "      <td>2</td>\n",
       "      <td>0</td>\n",
       "      <td>0</td>\n",
       "    </tr>\n",
       "    <tr>\n",
       "      <th>4</th>\n",
       "      <td>0</td>\n",
       "      <td>0</td>\n",
       "      <td>5</td>\n",
       "      <td>14</td>\n",
       "      <td>4</td>\n",
       "      <td>0</td>\n",
       "      <td>0</td>\n",
       "      <td>0</td>\n",
       "      <td>0</td>\n",
       "      <td>0</td>\n",
       "      <td>13</td>\n",
       "      <td>8</td>\n",
       "      <td>0</td>\n",
       "      <td>0</td>\n",
       "      <td>0</td>\n",
       "      <td>0</td>\n",
       "      <td>0</td>\n",
       "      <td>3</td>\n",
       "      <td>14</td>\n",
       "      <td>4</td>\n",
       "      <td>0</td>\n",
       "      <td>0</td>\n",
       "      <td>0</td>\n",
       "      <td>0</td>\n",
       "      <td>0</td>\n",
       "      <td>6</td>\n",
       "      <td>16</td>\n",
       "      <td>14</td>\n",
       "      <td>9</td>\n",
       "      <td>2</td>\n",
       "      <td>0</td>\n",
       "      <td>0</td>\n",
       "      <td>0</td>\n",
       "      <td>4</td>\n",
       "      <td>16</td>\n",
       "      <td>3</td>\n",
       "      <td>4</td>\n",
       "      <td>11</td>\n",
       "      <td>2</td>\n",
       "      <td>0</td>\n",
       "      <td>0</td>\n",
       "      <td>0</td>\n",
       "      <td>14</td>\n",
       "      <td>3</td>\n",
       "      <td>0</td>\n",
       "      <td>4</td>\n",
       "      <td>11</td>\n",
       "      <td>0</td>\n",
       "      <td>0</td>\n",
       "      <td>0</td>\n",
       "      <td>10</td>\n",
       "      <td>8</td>\n",
       "      <td>4</td>\n",
       "      <td>11</td>\n",
       "      <td>12</td>\n",
       "      <td>0</td>\n",
       "      <td>0</td>\n",
       "      <td>0</td>\n",
       "      <td>4</td>\n",
       "      <td>12</td>\n",
       "      <td>14</td>\n",
       "      <td>7</td>\n",
       "      <td>0</td>\n",
       "      <td>0</td>\n",
       "    </tr>\n",
       "  </tbody>\n",
       "</table>\n",
       "</div>"
      ],
      "text/plain": [
       "   Attribute1  Attribute2  Attribute3  Attribute4  Attribute5  Attribute6  \\\n",
       "0           0           1           6          15          12           1   \n",
       "1           0           0          10          16           6           0   \n",
       "2           0           0           8          15          16          13   \n",
       "3           0           0           0           3          11          16   \n",
       "4           0           0           5          14           4           0   \n",
       "\n",
       "   Attribute7  Attribute8  Attribute9  Attribute10  Attribute11  Attribute12  \\\n",
       "0           0           0           0            7           16            6   \n",
       "1           0           0           0            7           16            8   \n",
       "2           0           0           0            1           11            9   \n",
       "3           0           0           0            0            5           16   \n",
       "4           0           0           0            0           13            8   \n",
       "\n",
       "   Attribute13  Attribute14  Attribute15  Attribute16  Attribute17  \\\n",
       "0            6           10            0            0            0   \n",
       "1           16            5            0            0            0   \n",
       "2           11           16            1            0            0   \n",
       "3           11           13            7            0            0   \n",
       "4            0            0            0            0            0   \n",
       "\n",
       "   Attribute18  Attribute19  Attribute20  Attribute21  Attribute22  \\\n",
       "0            8           16            2            0           11   \n",
       "1           11           16            0            6           14   \n",
       "2            0            0            0            7           14   \n",
       "3            3           15            8            1           15   \n",
       "4            3           14            4            0            0   \n",
       "\n",
       "   Attribute23  Attribute24  Attribute25  Attribute26  Attribute27  \\\n",
       "0            2            0            0            5           16   \n",
       "1            3            0            0           12           12   \n",
       "2            0            0            0            0            3   \n",
       "3            6            0            0           11           16   \n",
       "4            0            0            0            6           16   \n",
       "\n",
       "   Attribute28  Attribute29  Attribute30  Attribute31  Attribute32  \\\n",
       "0            3            0            5            7            0   \n",
       "1            0            0           11           11            0   \n",
       "2            4           14           12            2            0   \n",
       "3           16           16           16           10            0   \n",
       "4           14            9            2            0            0   \n",
       "\n",
       "   Attribute33  Attribute34  Attribute35  Attribute36  Attribute37  \\\n",
       "0            0            7           13            3            0   \n",
       "1            0           12           12            0            0   \n",
       "2            0            1           16           16           16   \n",
       "3            0            1            4            4           13   \n",
       "4            0            4           16            3            4   \n",
       "\n",
       "   Attribute38  Attribute39  Attribute40  Attribute41  Attribute42  \\\n",
       "0            8            7            0            0            4   \n",
       "1            8           12            0            0            7   \n",
       "2           16           10            0            0            2   \n",
       "3           10            2            0            0            0   \n",
       "4           11            2            0            0            0   \n",
       "\n",
       "   Attribute43  Attribute44  Attribute45  Attribute46  Attribute47  \\\n",
       "0           12            0            1           13            5   \n",
       "1           15            1            0           13           11   \n",
       "2           12           16           10            0            0   \n",
       "3            0            0           15            4            0   \n",
       "4           14            3            0            4           11   \n",
       "\n",
       "   Attribute48  Attribute49  Attribute50  Attribute51  Attribute52  \\\n",
       "0            0            0            0           14            9   \n",
       "1            0            0            0           16            8   \n",
       "2            0            0            0            2           16   \n",
       "3            0            0            0            0            3   \n",
       "4            0            0            0           10            8   \n",
       "\n",
       "   Attribute53  Attribute54  Attribute55  Attribute56  Attribute57  \\\n",
       "0           15            9            0            0            0   \n",
       "1           10           15            3            0            0   \n",
       "2            4            0            0            0            0   \n",
       "3           16            0            0            0            0   \n",
       "4            4           11           12            0            0   \n",
       "\n",
       "   Attribute58  Attribute59  Attribute60  Attribute61  Attribute62  \\\n",
       "0            0            6           14            7            1   \n",
       "1            0           10           16           15            3   \n",
       "2            0            9           14            0            0   \n",
       "3            0            0            1           15            2   \n",
       "4            0            4           12           14            7   \n",
       "\n",
       "   Attribute63  Attribute64  \n",
       "0            0            0  \n",
       "1            0            0  \n",
       "2            0            0  \n",
       "3            0            0  \n",
       "4            0            0  "
      ]
     },
     "execution_count": 70,
     "metadata": {},
     "output_type": "execute_result"
    }
   ],
   "source": [
    "## Code adapted from https://github.com/uci-ml-repo/ucimlrepo\n",
    "from ucimlrepo import fetch_ucirepo\n",
    "  \n",
    "# fetch dataset \n",
    "digits = fetch_ucirepo(id=80) \n",
    "  \n",
    "# data (as pandas dataframes) \n",
    "X = digits.data.features \n",
    "y = digits.data.targets\n",
    "\n",
    "X.head()"
   ]
  },
  {
   "cell_type": "code",
   "execution_count": 71,
   "metadata": {},
   "outputs": [
    {
     "name": "stdout",
     "output_type": "stream",
     "text": [
      "Number of duplicate rows:  0\n"
     ]
    }
   ],
   "source": [
    "# Check for duplicates\n",
    "print(\"Number of duplicate rows: \", X.duplicated().sum())"
   ]
  },
  {
   "cell_type": "code",
   "execution_count": 72,
   "metadata": {},
   "outputs": [
    {
     "name": "stdout",
     "output_type": "stream",
     "text": [
      "Number of missing values:  0\n"
     ]
    }
   ],
   "source": [
    "# Check for missing values\n",
    "print(\"Number of missing values: \", X.isnull().sum().sum())"
   ]
  },
  {
   "cell_type": "code",
   "execution_count": 73,
   "metadata": {},
   "outputs": [
    {
     "data": {
      "image/png": "[encoded data removed]",
      "text/plain": [
       "<Figure size 640x480 with 5 Axes>"
      ]
     },
     "metadata": {},
     "output_type": "display_data"
    },
    {
     "data": {
      "text/html": [
       "<div>\n",
       "<style scoped>\n",
       "    .dataframe tbody tr th:only-of-type {\n",
       "        vertical-align: middle;\n",
       "    }\n",
       "\n",
       "    .dataframe tbody tr th {\n",
       "        vertical-align: top;\n",
       "    }\n",
       "\n",
       "    .dataframe thead th {\n",
       "        text-align: right;\n",
       "    }\n",
       "</style>\n",
       "<table border=\"1\" class=\"dataframe\">\n",
       "  <thead>\n",
       "    <tr style=\"text-align: right;\">\n",
       "      <th></th>\n",
       "      <th>class</th>\n",
       "    </tr>\n",
       "  </thead>\n",
       "  <tbody>\n",
       "    <tr>\n",
       "      <th>0</th>\n",
       "      <td>0</td>\n",
       "    </tr>\n",
       "    <tr>\n",
       "      <th>1</th>\n",
       "      <td>0</td>\n",
       "    </tr>\n",
       "    <tr>\n",
       "      <th>2</th>\n",
       "      <td>7</td>\n",
       "    </tr>\n",
       "    <tr>\n",
       "      <th>3</th>\n",
       "      <td>4</td>\n",
       "    </tr>\n",
       "    <tr>\n",
       "      <th>4</th>\n",
       "      <td>6</td>\n",
       "    </tr>\n",
       "  </tbody>\n",
       "</table>\n",
       "</div>"
      ],
      "text/plain": [
       "   class\n",
       "0      0\n",
       "1      0\n",
       "2      7\n",
       "3      4\n",
       "4      6"
      ]
     },
     "metadata": {},
     "output_type": "display_data"
    }
   ],
   "source": [
    "# Show the first 5 images and their classes\n",
    "for i in range(5):\n",
    "    plt.subplot(1, 5, i+1)\n",
    "    plt.imshow(X.iloc[i].values.reshape(8,8), cmap='gray')\n",
    "    plt.axis('off')\n",
    "plt.show()\n",
    "display(y.iloc[:5])"
   ]
  },
  {
   "cell_type": "markdown",
   "metadata": {},
   "source": [
    "You can see the greyscale images above which make up the features, along with their target values."
   ]
  },
  {
   "cell_type": "code",
   "execution_count": 74,
   "metadata": {},
   "outputs": [
    {
     "data": {
      "text/plain": [
       "class\n",
       "0        554\n",
       "1        571\n",
       "2        557\n",
       "3        572\n",
       "4        568\n",
       "5        558\n",
       "6        558\n",
       "7        566\n",
       "8        554\n",
       "9        562\n",
       "dtype: int64"
      ]
     },
     "metadata": {},
     "output_type": "display_data"
    }
   ],
   "source": [
    "# Check Value Counts\n",
    "display(y.value_counts().sort_index())"
   ]
  },
  {
   "cell_type": "markdown",
   "metadata": {},
   "source": [
    "## LabelBinarizer\n",
    "\n",
    "In the cell below we prepare our targets for the model by one-hot encoding them, or binarizing them. Be sure to keep track of the `LabelBinarizer.classes_`.  By default the `LabelBinarizer` will order the columns numerically by the class number.\n",
    "\n",
    "This transformation does not carry the risk of data leakage, so we can do it before our data split or after."
   ]
  },
  {
   "cell_type": "code",
   "execution_count": 75,
   "metadata": {},
   "outputs": [
    {
     "name": "stdout",
     "output_type": "stream",
     "text": [
      "[0 1 2 3 4 5 6 7 8 9]\n"
     ]
    },
    {
     "data": {
      "text/plain": [
       "array([[1, 0, 0, 0, 0, 0, 0, 0, 0, 0],\n",
       "       [1, 0, 0, 0, 0, 0, 0, 0, 0, 0],\n",
       "       [0, 0, 0, 0, 0, 0, 0, 1, 0, 0],\n",
       "       [0, 0, 0, 0, 1, 0, 0, 0, 0, 0],\n",
       "       [0, 0, 0, 0, 0, 0, 1, 0, 0, 0]])"
      ]
     },
     "execution_count": 75,
     "metadata": {},
     "output_type": "execute_result"
    }
   ],
   "source": [
    "# Binarize (one-hot encode) the target variable\n",
    "label_bin = LabelBinarizer()\n",
    "y_binary = label_bin.fit_transform(y)\n",
    "classes = label_bin.classes_\n",
    "\n",
    "print(classes)\n",
    "y_binary[:5]"
   ]
  },
  {
   "cell_type": "markdown",
   "metadata": {},
   "source": [
    "## Data Split\n",
    "\n",
    "Here we split our data into training, validation, and testing data.  We will use the training data to train the model, the validation data to identify overfitting and compare one model against the others, and the testing data only for final evaluation of the model we would choose for deployment."
   ]
  },
  {
   "cell_type": "code",
   "execution_count": 76,
   "metadata": {},
   "outputs": [],
   "source": [
    "## Train/test split\n",
    "X_train, X_test, y_train, y_test = train_test_split(X, y_binary, test_size=0.4, random_state=42, stratify=y_binary)\n",
    "X_val, X_test, y_val, y_test = train_test_split(X_test, y_test, test_size=0.5, random_state=42, stratify=y_test)"
   ]
  },
  {
   "cell_type": "markdown",
   "metadata": {},
   "source": [
    "# Scaling\n",
    "\n",
    "Empirical research suggests that models will converge more quickly and accurately if input features are between 0 and 1.  We will use `MinMaxScaler` to scale our data to this range."
   ]
  },
  {
   "cell_type": "code",
   "execution_count": 77,
   "metadata": {},
   "outputs": [],
   "source": [
    "# Scale the data\n",
    "scaler = MinMaxScaler()\n",
    "X_train = scaler.fit_transform(X_train)\n",
    "X_val = scaler.transform(X_val)\n",
    "X_test = scaler.transform(X_test)"
   ]
  },
  {
   "cell_type": "markdown",
   "metadata": {},
   "source": [
    "# Create model\n",
    "\n",
    "We will create a somewhat robust model to classify our digits.  \n",
    "\n",
    "**Notice** \n",
    "\n",
    "* The output layer shape is the number of classes in the target \n",
    "* The activation function is **softmax**\n",
    "* The loss function is **categorical_crossentropy**\n"
   ]
  },
  {
   "cell_type": "code",
   "execution_count": 78,
   "metadata": {},
   "outputs": [
    {
     "name": "stdout",
     "output_type": "stream",
     "text": [
      "Input shape:  64\n",
      "Output shape:  10\n"
     ]
    }
   ],
   "source": [
    "# Define the input and output shapes\n",
    "input_shape = X_train.shape[1]\n",
    "output_shape = len(classes)\n",
    "print(\"Input shape: \", input_shape)\n",
    "print(\"Output shape: \", output_shape)\n",
    "\n",
    "\n",
    "# Define the model using a function\n",
    "def build_model():\n",
    "\n",
    "    # Instantiate a sequential model\n",
    "    model = models.Sequential()\n",
    "\n",
    "    # Add the layers\n",
    "    model.add(layers.Input(shape=(input_shape,)))\n",
    "    model.add(layers.Dense(64, activation='relu'))\n",
    "    model.add(layers.Dense(32, activation='relu'))\n",
    "    model.add(layers.Dense(16, activation='relu'))\n",
    "\n",
    "    # Add the output layer\n",
    "    model.add(layers.Dense(output_shape, activation='softmax'))\n",
    "\n",
    "    # Compile the model\n",
    "    model.compile(optimizer='adam', loss='categorical_crossentropy', metrics=['accuracy'])\n",
    "    return model\n"
   ]
  },
  {
   "cell_type": "code",
   "execution_count": 79,
   "metadata": {},
   "outputs": [
    {
     "data": {
      "text/html": [
       "<pre style=\"white-space:pre;overflow-x:auto;line-height:normal;font-family:Menlo,'DejaVu Sans Mono',consolas,'Courier New',monospace\"><span style=\"font-weight: bold\">Model: \"sequential_4\"</span>\n",
       "</pre>\n"
      ],
      "text/plain": [
       "\u001b[1mModel: \"sequential_4\"\u001b[0m\n"
      ]
     },
     "metadata": {},
     "output_type": "display_data"
    },
    {
     "data": {
      "text/html": [
       "<pre style=\"white-space:pre;overflow-x:auto;line-height:normal;font-family:Menlo,'DejaVu Sans Mono',consolas,'Courier New',monospace\">┏━━━━━━━━━━━━━━━━━━━━━━━━━━━━━━━━━┳━━━━━━━━━━━━━━━━━━━━━━━━━━━┳━━━━━━━━━━━━┓\n",
       "┃<span style=\"font-weight: bold\"> Layer (type)                    </span>┃<span style=\"font-weight: bold\"> Output Shape              </span>┃<span style=\"font-weight: bold\">    Param # </span>┃\n",
       "┡━━━━━━━━━━━━━━━━━━━━━━━━━━━━━━━━━╇━━━━━━━━━━━━━━━━━━━━━━━━━━━╇━━━━━━━━━━━━┩\n",
       "│ dense_12 (<span style=\"color: #0087ff; text-decoration-color: #0087ff\">Dense</span>)                │ (<span style=\"color: #00d7ff; text-decoration-color: #00d7ff\">None</span>, <span style=\"color: #00af00; text-decoration-color: #00af00\">64</span>)                │      <span style=\"color: #00af00; text-decoration-color: #00af00\">4,160</span> │\n",
       "├─────────────────────────────────┼───────────────────────────┼────────────┤\n",
       "│ dense_13 (<span style=\"color: #0087ff; text-decoration-color: #0087ff\">Dense</span>)                │ (<span style=\"color: #00d7ff; text-decoration-color: #00d7ff\">None</span>, <span style=\"color: #00af00; text-decoration-color: #00af00\">32</span>)                │      <span style=\"color: #00af00; text-decoration-color: #00af00\">2,080</span> │\n",
       "├─────────────────────────────────┼───────────────────────────┼────────────┤\n",
       "│ dense_14 (<span style=\"color: #0087ff; text-decoration-color: #0087ff\">Dense</span>)                │ (<span style=\"color: #00d7ff; text-decoration-color: #00d7ff\">None</span>, <span style=\"color: #00af00; text-decoration-color: #00af00\">16</span>)                │        <span style=\"color: #00af00; text-decoration-color: #00af00\">528</span> │\n",
       "├─────────────────────────────────┼───────────────────────────┼────────────┤\n",
       "│ dense_15 (<span style=\"color: #0087ff; text-decoration-color: #0087ff\">Dense</span>)                │ (<span style=\"color: #00d7ff; text-decoration-color: #00d7ff\">None</span>, <span style=\"color: #00af00; text-decoration-color: #00af00\">10</span>)                │        <span style=\"color: #00af00; text-decoration-color: #00af00\">170</span> │\n",
       "└─────────────────────────────────┴───────────────────────────┴────────────┘\n",
       "</pre>\n"
      ],
      "text/plain": [
       "┏━━━━━━━━━━━━━━━━━━━━━━━━━━━━━━━━━┳━━━━━━━━━━━━━━━━━━━━━━━━━━━┳━━━━━━━━━━━━┓\n",
       "┃\u001b[1m \u001b[0m\u001b[1mLayer (type)                   \u001b[0m\u001b[1m \u001b[0m┃\u001b[1m \u001b[0m\u001b[1mOutput Shape             \u001b[0m\u001b[1m \u001b[0m┃\u001b[1m \u001b[0m\u001b[1m   Param #\u001b[0m\u001b[1m \u001b[0m┃\n",
       "┡━━━━━━━━━━━━━━━━━━━━━━━━━━━━━━━━━╇━━━━━━━━━━━━━━━━━━━━━━━━━━━╇━━━━━━━━━━━━┩\n",
       "│ dense_12 (\u001b[38;5;33mDense\u001b[0m)                │ (\u001b[38;5;45mNone\u001b[0m, \u001b[38;5;34m64\u001b[0m)                │      \u001b[38;5;34m4,160\u001b[0m │\n",
       "├─────────────────────────────────┼───────────────────────────┼────────────┤\n",
       "│ dense_13 (\u001b[38;5;33mDense\u001b[0m)                │ (\u001b[38;5;45mNone\u001b[0m, \u001b[38;5;34m32\u001b[0m)                │      \u001b[38;5;34m2,080\u001b[0m │\n",
       "├─────────────────────────────────┼───────────────────────────┼────────────┤\n",
       "│ dense_14 (\u001b[38;5;33mDense\u001b[0m)                │ (\u001b[38;5;45mNone\u001b[0m, \u001b[38;5;34m16\u001b[0m)                │        \u001b[38;5;34m528\u001b[0m │\n",
       "├─────────────────────────────────┼───────────────────────────┼────────────┤\n",
       "│ dense_15 (\u001b[38;5;33mDense\u001b[0m)                │ (\u001b[38;5;45mNone\u001b[0m, \u001b[38;5;34m10\u001b[0m)                │        \u001b[38;5;34m170\u001b[0m │\n",
       "└─────────────────────────────────┴───────────────────────────┴────────────┘\n"
      ]
     },
     "metadata": {},
     "output_type": "display_data"
    },
    {
     "data": {
      "text/html": [
       "<pre style=\"white-space:pre;overflow-x:auto;line-height:normal;font-family:Menlo,'DejaVu Sans Mono',consolas,'Courier New',monospace\"><span style=\"font-weight: bold\"> Total params: </span><span style=\"color: #00af00; text-decoration-color: #00af00\">6,938</span> (27.10 KB)\n",
       "</pre>\n"
      ],
      "text/plain": [
       "\u001b[1m Total params: \u001b[0m\u001b[38;5;34m6,938\u001b[0m (27.10 KB)\n"
      ]
     },
     "metadata": {},
     "output_type": "display_data"
    },
    {
     "data": {
      "text/html": [
       "<pre style=\"white-space:pre;overflow-x:auto;line-height:normal;font-family:Menlo,'DejaVu Sans Mono',consolas,'Courier New',monospace\"><span style=\"font-weight: bold\"> Trainable params: </span><span style=\"color: #00af00; text-decoration-color: #00af00\">6,938</span> (27.10 KB)\n",
       "</pre>\n"
      ],
      "text/plain": [
       "\u001b[1m Trainable params: \u001b[0m\u001b[38;5;34m6,938\u001b[0m (27.10 KB)\n"
      ]
     },
     "metadata": {},
     "output_type": "display_data"
    },
    {
     "data": {
      "text/html": [
       "<pre style=\"white-space:pre;overflow-x:auto;line-height:normal;font-family:Menlo,'DejaVu Sans Mono',consolas,'Courier New',monospace\"><span style=\"font-weight: bold\"> Non-trainable params: </span><span style=\"color: #00af00; text-decoration-color: #00af00\">0</span> (0.00 B)\n",
       "</pre>\n"
      ],
      "text/plain": [
       "\u001b[1m Non-trainable params: \u001b[0m\u001b[38;5;34m0\u001b[0m (0.00 B)\n"
      ]
     },
     "metadata": {},
     "output_type": "display_data"
    }
   ],
   "source": [
    "## Build the model\n",
    "model = build_model()\n",
    "model.summary()"
   ]
  },
  {
   "cell_type": "markdown",
   "metadata": {},
   "source": [
    "# Model Training\n",
    "\n",
    "We will train the model on the training data and validate it with the validation data.  We are careful to save the history object to plot the learning curve."
   ]
  },
  {
   "cell_type": "code",
   "execution_count": 80,
   "metadata": {},
   "outputs": [],
   "source": [
    "## Train the model and save the history\n",
    "history = model.fit(X_train, y_train, \n",
    "                epochs=100, batch_size=32, \n",
    "                validation_data=(X_val, y_val),\n",
    "                verbose=0)"
   ]
  },
  {
   "cell_type": "code",
   "execution_count": 81,
   "metadata": {},
   "outputs": [
    {
     "data": {
      "image/png": "[encoded data removed]",
      "text/plain": [
       "<Figure size 1200x600 with 2 Axes>"
      ]
     },
     "metadata": {},
     "output_type": "display_data"
    }
   ],
   "source": [
    "# define a function to plot the history\n",
    "def plot_history(history):\n",
    "    fig, axes = plt.subplots(1, 2, figsize=(12, 6))\n",
    "    axes[0].plot(history.history['loss'], label='loss')\n",
    "    axes[0].plot(history.history['val_loss'], label='val_loss')\n",
    "    axes[0].set_title('Loss')\n",
    "    axes[1].plot(history.history['accuracy'], label='accuracy')\n",
    "    axes[1].plot(history.history['val_accuracy'], label='val_accuracy')\n",
    "    axes[1].set_title('Accuracy')\n",
    "    for ax in axes:\n",
    "        ax.legend()\n",
    "\n",
    "# Plot the history\n",
    "plot_history(history)"
   ]
  },
  {
   "cell_type": "markdown",
   "metadata": {},
   "source": [
    "# Evaluate the Model\n",
    "\n",
    "Our plot above shows a nice hockey-stick shaped learning curve with only slight overfitting represented by a visibly lower training loss line than validation loss line.  Our accuracy curve shows we are nearing perfect predictions on the training set and in the mid-90s on the validation data.\n",
    "\n",
    "Below we will do a more rigorous evaluation of our model.\n",
    "\n",
    "## Evaluating Multiclass Keras Models.\n",
    "\n",
    "Notice in the evaluation function below that we use `np.argmax(axis=1)` to isolate the class with the highest probability.  This collapses our (num_samples, num_classes) shaped targets and probability predictions into a single integer prediction for each image.  From there we leverage the Scikit-Learn classification evaluation functions to get metrics and a confusion matrix for each of the 10 classes."
   ]
  },
  {
   "cell_type": "code",
   "execution_count": 82,
   "metadata": {},
   "outputs": [],
   "source": [
    "def evaluate_multiclasss(model, X, y):\n",
    "    # Prepare the predictions for the confusion matrix and classification report\n",
    "    y_testnp = np.argmax(y, axis=1)\n",
    "    y_pred = np.argmax(model.predict(X), axis=1)\n",
    "\n",
    "    # print the classification report\n",
    "    print(classification_report(y_testnp, y_pred, zero_division=0))\n",
    "    \n",
    "    # plot the confusion matrix\n",
    "    ConfusionMatrixDisplay.from_predictions(y_testnp, y_pred)\n",
    "    plt.show()"
   ]
  },
  {
   "cell_type": "code",
   "execution_count": 83,
   "metadata": {},
   "outputs": [
    {
     "name": "stdout",
     "output_type": "stream",
     "text": [
      "Training Set Evaluation\n",
      "\u001b[1m106/106\u001b[0m \u001b[32m━━━━━━━━━━━━━━━━━━━━\u001b[0m\u001b[37m\u001b[0m \u001b[1m0s\u001b[0m 1ms/step\n"
     ]
    },
    {
     "name": "stdout",
     "output_type": "stream",
     "text": [
      "              precision    recall  f1-score   support\n",
      "\n",
      "           0       1.00      1.00      1.00       332\n",
      "           1       1.00      1.00      1.00       343\n",
      "           2       1.00      1.00      1.00       334\n",
      "           3       1.00      1.00      1.00       343\n",
      "           4       1.00      1.00      1.00       341\n",
      "           5       1.00      1.00      1.00       335\n",
      "           6       1.00      1.00      1.00       335\n",
      "           7       1.00      1.00      1.00       340\n",
      "           8       1.00      1.00      1.00       332\n",
      "           9       1.00      1.00      1.00       337\n",
      "\n",
      "    accuracy                           1.00      3372\n",
      "   macro avg       1.00      1.00      1.00      3372\n",
      "weighted avg       1.00      1.00      1.00      3372\n",
      "\n"
     ]
    },
    {
     "data": {
      "image/png": "[encoded data removed]",
      "text/plain": [
       "<Figure size 640x480 with 2 Axes>"
      ]
     },
     "metadata": {},
     "output_type": "display_data"
    },
    {
     "name": "stdout",
     "output_type": "stream",
     "text": [
      "Validation Set Evaluation\n",
      "\u001b[1m36/36\u001b[0m \u001b[32m━━━━━━━━━━━━━━━━━━━━\u001b[0m\u001b[37m\u001b[0m \u001b[1m0s\u001b[0m 942us/step\n",
      "              precision    recall  f1-score   support\n",
      "\n",
      "           0       1.00      0.99      1.00       111\n",
      "           1       0.97      0.97      0.97       114\n",
      "           2       1.00      0.99      1.00       112\n",
      "           3       0.99      0.98      0.99       114\n",
      "           4       0.99      0.98      0.99       113\n",
      "           5       1.00      0.99      1.00       111\n",
      "           6       0.99      0.99      0.99       112\n",
      "           7       0.99      0.99      0.99       113\n",
      "           8       0.96      0.98      0.97       111\n",
      "           9       0.97      0.99      0.98       113\n",
      "\n",
      "    accuracy                           0.99      1124\n",
      "   macro avg       0.99      0.99      0.99      1124\n",
      "weighted avg       0.99      0.99      0.99      1124\n",
      "\n"
     ]
    },
    {
     "data": {
      "image/png": "[encoded data removed]",
      "text/plain": [
       "<Figure size 640x480 with 2 Axes>"
      ]
     },
     "metadata": {},
     "output_type": "display_data"
    }
   ],
   "source": [
    "# Evaluate the model\n",
    "print(\"Training Set Evaluation\")\n",
    "evaluate_multiclasss(model, X_train, y_train)\n",
    "print(\"Validation Set Evaluation\")\n",
    "evaluate_multiclasss(model, X_val, y_val)"
   ]
  },
  {
   "cell_type": "markdown",
   "metadata": {},
   "source": [
    "## Final Evaluation\n",
    "\n",
    "Since we are only creating the one model in this demonstration, we will go ahead and evaluate it using our hold-out test data."
   ]
  },
  {
   "cell_type": "code",
   "execution_count": 84,
   "metadata": {},
   "outputs": [
    {
     "name": "stdout",
     "output_type": "stream",
     "text": [
      "Test Set Evaluation\n",
      "\u001b[1m36/36\u001b[0m \u001b[32m━━━━━━━━━━━━━━━━━━━━\u001b[0m\u001b[37m\u001b[0m \u001b[1m0s\u001b[0m 832us/step\n"
     ]
    },
    {
     "name": "stdout",
     "output_type": "stream",
     "text": [
      "              precision    recall  f1-score   support\n",
      "\n",
      "           0       0.99      0.99      0.99       111\n",
      "           1       0.98      0.97      0.98       114\n",
      "           2       0.98      0.99      0.99       111\n",
      "           3       0.99      0.97      0.98       115\n",
      "           4       1.00      0.98      0.99       114\n",
      "           5       0.97      0.97      0.97       112\n",
      "           6       0.96      0.98      0.97       111\n",
      "           7       0.99      0.99      0.99       113\n",
      "           8       0.96      0.96      0.96       111\n",
      "           9       0.97      1.00      0.99       112\n",
      "\n",
      "    accuracy                           0.98      1124\n",
      "   macro avg       0.98      0.98      0.98      1124\n",
      "weighted avg       0.98      0.98      0.98      1124\n",
      "\n"
     ]
    },
    {
     "data": {
      "image/png": "[encoded data removed]",
      "text/plain": [
       "<Figure size 640x480 with 2 Axes>"
      ]
     },
     "metadata": {},
     "output_type": "display_data"
    }
   ],
   "source": [
    "# evaluate the model on the test set\n",
    "print(\"Test Set Evaluation\")\n",
    "evaluate_multiclasss(model, X_test, y_test)"
   ]
  },
  {
   "cell_type": "markdown",
   "metadata": {},
   "source": [
    "# Conclusion\n",
    "\n",
    "Our model is performing close to perfectly.  It turns out this is not a hard problem for the model to solve.  This is likely because each digit was carefully framed.  If the digits ranged in location from left to right, top to bottom, or appeared with other backgrounds, we would need are more specialized model, such as a **Convolutional Neural Network** designed for image data.\n",
    "\n",
    "## Summary\n",
    "In this lesson you learned how to create a multiclass class classification model and used it to classify handwritten digits into their integer representations.  You learned to prepare the targets with one-hot encoding, to ensure that the output layer had a neuron for each class and a **softmax** activation function.  You were also sure to use the **categorical_crossentropy** loss function.  In order to prepare your predictions for Scikit-Learn evaluation functions, you used `np.argmax(axis=1)` to determine which class each sample most likely belonged to."
   ]
  },
  {
   "cell_type": "markdown",
   "metadata": {},
   "source": [
    "# Challenge\n",
    "\n",
    "Classify types of glass through various measurements using a neural network.  Run the cell below to load the UCI glass dataset and try to get the best metrics you can by creating and tuning a multiclass Kera deep learning model using what you have learned in this lesson.  We've gotten you started with the code to load the data below.\n",
    "\n",
    "## Data Dictionary:\n",
    "\n",
    "**Features descriptions**\n",
    "\n",
    "1. Id number: 1 to 214\n",
    "2. RI: refractive index\n",
    "3. Na: Sodium (unit measurement: weight percent in corresponding oxide, as are attributes 4-10)\n",
    "4. Mg: Magnesium\n",
    "5. Al: Aluminum\n",
    "6. Si: Silicon\n",
    "7. K: Potassium\n",
    "8. Ca: Calcium\n",
    "9. Ba: Barium\n",
    "10. Fe: Iron\n",
    "\n",
    "**Class Labels: Type of glass**\n",
    "\n",
    "1. building_windows_float_processed\n",
    "2. building_windows_non_float_processed\n",
    "3. vehicle_windows_float_processed\n",
    "4. vehicle_windows_non_float_processed (none in this database)\n",
    "5. containers\n",
    "6. tableware\n",
    "7. headlamps"
   ]
  },
  {
   "cell_type": "code",
   "execution_count": 89,
   "metadata": {},
   "outputs": [
    {
     "data": {
      "text/html": [
       "<div>\n",
       "<style scoped>\n",
       "    .dataframe tbody tr th:only-of-type {\n",
       "        vertical-align: middle;\n",
       "    }\n",
       "\n",
       "    .dataframe tbody tr th {\n",
       "        vertical-align: top;\n",
       "    }\n",
       "\n",
       "    .dataframe thead th {\n",
       "        text-align: right;\n",
       "    }\n",
       "</style>\n",
       "<table border=\"1\" class=\"dataframe\">\n",
       "  <thead>\n",
       "    <tr style=\"text-align: right;\">\n",
       "      <th></th>\n",
       "      <th>RI</th>\n",
       "      <th>Na</th>\n",
       "      <th>Mg</th>\n",
       "      <th>Al</th>\n",
       "      <th>Si</th>\n",
       "      <th>K</th>\n",
       "      <th>Ca</th>\n",
       "      <th>Ba</th>\n",
       "      <th>Fe</th>\n",
       "    </tr>\n",
       "  </thead>\n",
       "  <tbody>\n",
       "    <tr>\n",
       "      <th>0</th>\n",
       "      <td>1.52101</td>\n",
       "      <td>13.64</td>\n",
       "      <td>4.49</td>\n",
       "      <td>1.10</td>\n",
       "      <td>71.78</td>\n",
       "      <td>0.06</td>\n",
       "      <td>8.75</td>\n",
       "      <td>0.0</td>\n",
       "      <td>0.0</td>\n",
       "    </tr>\n",
       "    <tr>\n",
       "      <th>1</th>\n",
       "      <td>1.51761</td>\n",
       "      <td>13.89</td>\n",
       "      <td>3.60</td>\n",
       "      <td>1.36</td>\n",
       "      <td>72.73</td>\n",
       "      <td>0.48</td>\n",
       "      <td>7.83</td>\n",
       "      <td>0.0</td>\n",
       "      <td>0.0</td>\n",
       "    </tr>\n",
       "    <tr>\n",
       "      <th>2</th>\n",
       "      <td>1.51618</td>\n",
       "      <td>13.53</td>\n",
       "      <td>3.55</td>\n",
       "      <td>1.54</td>\n",
       "      <td>72.99</td>\n",
       "      <td>0.39</td>\n",
       "      <td>7.78</td>\n",
       "      <td>0.0</td>\n",
       "      <td>0.0</td>\n",
       "    </tr>\n",
       "    <tr>\n",
       "      <th>3</th>\n",
       "      <td>1.51766</td>\n",
       "      <td>13.21</td>\n",
       "      <td>3.69</td>\n",
       "      <td>1.29</td>\n",
       "      <td>72.61</td>\n",
       "      <td>0.57</td>\n",
       "      <td>8.22</td>\n",
       "      <td>0.0</td>\n",
       "      <td>0.0</td>\n",
       "    </tr>\n",
       "    <tr>\n",
       "      <th>4</th>\n",
       "      <td>1.51742</td>\n",
       "      <td>13.27</td>\n",
       "      <td>3.62</td>\n",
       "      <td>1.24</td>\n",
       "      <td>73.08</td>\n",
       "      <td>0.55</td>\n",
       "      <td>8.07</td>\n",
       "      <td>0.0</td>\n",
       "      <td>0.0</td>\n",
       "    </tr>\n",
       "  </tbody>\n",
       "</table>\n",
       "</div>"
      ],
      "text/plain": [
       "        RI     Na    Mg    Al     Si     K    Ca   Ba   Fe\n",
       "0  1.52101  13.64  4.49  1.10  71.78  0.06  8.75  0.0  0.0\n",
       "1  1.51761  13.89  3.60  1.36  72.73  0.48  7.83  0.0  0.0\n",
       "2  1.51618  13.53  3.55  1.54  72.99  0.39  7.78  0.0  0.0\n",
       "3  1.51766  13.21  3.69  1.29  72.61  0.57  8.22  0.0  0.0\n",
       "4  1.51742  13.27  3.62  1.24  73.08  0.55  8.07  0.0  0.0"
      ]
     },
     "execution_count": 89,
     "metadata": {},
     "output_type": "execute_result"
    }
   ],
   "source": [
    "# import glass dataset from ucimlrepo\n",
    "glass = fetch_ucirepo(id=42)\n",
    "X = glass.data.features\n",
    "y = glass.data.targets\n",
    "X.head()"
   ]
  }
 ],
 "metadata": {
  "kernelspec": {
   "display_name": "dojo-env",
   "language": "python",
   "name": "python3"
  },
  "language_info": {
   "codemirror_mode": {
    "name": "ipython",
    "version": 3
   },
   "file_extension": ".py",
   "mimetype": "text/x-python",
   "name": "python",
   "nbconvert_exporter": "python",
   "pygments_lexer": "ipython3",
   "version": "3.10.10"
  }
 },
 "nbformat": 4,
 "nbformat_minor": 2
}
